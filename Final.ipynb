{
  "nbformat": 4,
  "nbformat_minor": 0,
  "metadata": {
    "colab": {
      "name": "Final.ipynb",
      "provenance": [],
      "authorship_tag": "ABX9TyOmn+1/rRQS3vNuMUxOD6Bc",
      "include_colab_link": true
    },
    "kernelspec": {
      "name": "python3",
      "display_name": "Python 3"
    }
  },
  "cells": [
    {
      "cell_type": "markdown",
      "metadata": {
        "id": "view-in-github",
        "colab_type": "text"
      },
      "source": [
        "<a href=\"https://colab.research.google.com/github/quinnie-nguyen/Woman_in_Data_Science_2021/blob/main/Final.ipynb\" target=\"_parent\"><img src=\"https://colab.research.google.com/assets/colab-badge.svg\" alt=\"Open In Colab\"/></a>"
      ]
    },
    {
      "cell_type": "markdown",
      "metadata": {
        "id": "ZrA2ipvhI7Pe"
      },
      "source": [
        "**Introduction:**\r\n",
        "\r\n",
        "Intensive Care Units (ICUs) often lack verified medical histories for incoming patients. A patient in distress or a patient who is brought in confused or unresponsive may not be able to provide information about chronic conditions such as heart disease, injuries, or diabetes. Medical records may take days to transfer, especially for a patient from another medical provider or system.\r\n",
        "\r\n",
        "Knowledge about chronic conditions such as diabetes can inform clinical decisions about patient care and ultimately improve patient outcomes.\r\n",
        "\r\n",
        "This project will focus on models to determine whether a patient admitted to an ICU has been diagnosed with a particular type of diabetes, Diabetes Mellitus, using data from the first 24 hours of intensive care."
      ]
    },
    {
      "cell_type": "markdown",
      "metadata": {
        "id": "S78Pk2uWJrv8"
      },
      "source": [
        "# Loading data"
      ]
    },
    {
      "cell_type": "code",
      "metadata": {
        "colab": {
          "base_uri": "https://localhost:8080/"
        },
        "id": "Csf_op-qI2WM",
        "outputId": "273e0cd4-e901-4f19-8d06-d7ad5033447f"
      },
      "source": [
        "from google.colab import drive\r\n",
        "drive.mount('/content/gdrive')"
      ],
      "execution_count": 3,
      "outputs": [
        {
          "output_type": "stream",
          "text": [
            "Mounted at /content/gdrive\n"
          ],
          "name": "stdout"
        }
      ]
    },
    {
      "cell_type": "code",
      "metadata": {
        "id": "JvYaYmI5Jx3H"
      },
      "source": [
        "# import libraries\r\n",
        "import numpy as np\r\n",
        "import pandas as pd\r\n",
        "import matplotlib.pyplot as plt\r\n",
        "import seaborn as sns\r\n",
        "from sklearn.model_selection import train_test_split\r\n",
        "from sklearn.metrics import accuracy_score\r\n",
        "from sklearn.metrics import classification_report\r\n",
        "from sklearn.ensemble import VotingClassifier\r\n",
        "from sklearn.pipeline import Pipeline\r\n",
        "from functools import partial\r\n",
        "from collections import Counter\r\n",
        "from sklearn.naive_bayes import GaussianNB\r\n",
        "from sklearn.base import BaseEstimator, TransformerMixin\r\n",
        "from sklearn.utils.validation import check_is_fitted\r\n",
        "from sklearn.model_selection import RepeatedStratifiedKFold\r\n",
        "from sklearn.tree import DecisionTreeClassifier\r\n",
        "from imblearn.over_sampling import SMOTE\r\n",
        "from imblearn.over_sampling import BorderlineSMOTE\r\n",
        "from sklearn.linear_model import LogisticRegression\r\n",
        "from sklearn.ensemble import RandomForestClassifier\r\n",
        "from xgboost import XGBClassifier\r\n",
        "from sklearn.neighbors import KNeighborsClassifier\r\n",
        "from sklearn import svm\r\n",
        "from sklearn.model_selection import StratifiedKFold\r\n",
        "from imblearn.over_sampling import RandomOverSampler\r\n",
        "from imblearn.under_sampling import RandomUnderSampler"
      ],
      "execution_count": 111,
      "outputs": []
    },
    {
      "cell_type": "code",
      "metadata": {
        "id": "aaE3hsC2J56Q"
      },
      "source": [
        "train = pd.read_csv('/content/gdrive/My Drive/WIDS/TrainingWiDS2021.csv')\r\n",
        "predict = pd.read_csv('/content/gdrive/My Drive/WIDS/UnlabeledWiDS2021.csv')\r\n",
        "train['label'] = 'train'\r\n",
        "predict['label'] = 'predict'\r\n",
        "dictionary = pd.read_excel('/content/gdrive/My Drive/WIDS/DataDictionaryWiDS2021-fixed-thu-tu.xlsx')"
      ],
      "execution_count": 6,
      "outputs": []
    },
    {
      "cell_type": "code",
      "metadata": {
        "colab": {
          "base_uri": "https://localhost:8080/"
        },
        "id": "uU3y1Gy2KmHQ",
        "outputId": "5ac037ce-2c78-4c1d-ef9f-90f52ce6cfe4"
      },
      "source": [
        "print(train.head())\r\n",
        "print(train.iloc[:,-2].value_counts())"
      ],
      "execution_count": 7,
      "outputs": [
        {
          "output_type": "stream",
          "text": [
            "   Unnamed: 0  encounter_id  ...  diabetes_mellitus  label\n",
            "0           1        214826  ...                  1  train\n",
            "1           2        246060  ...                  1  train\n",
            "2           3        276985  ...                  0  train\n",
            "3           4        262220  ...                  0  train\n",
            "4           5        201746  ...                  0  train\n",
            "\n",
            "[5 rows x 182 columns]\n",
            "0    102006\n",
            "1     28151\n",
            "Name: diabetes_mellitus, dtype: int64\n"
          ],
          "name": "stdout"
        }
      ]
    },
    {
      "cell_type": "markdown",
      "metadata": {
        "id": "u-taxFtQKqeH"
      },
      "source": [
        "At first glance, we are asked to build model to classify patient with diabettes mellitus or not. To the best of my knowledge, it is too many features for building a good classifier, since our model seems likly to be missleading by noises or irrelavent covariates. Hence, it is not a good idea to to include all available variables.\r\n",
        "\r\n",
        "Secondly, it is noteworthy that the data set we have at hand is obviously imbalanced. \r\n",
        "\r\n",
        "In general, till now we have to problem needed to deal with:\r\n",
        "\r\n",
        "\r\n",
        "1.   Feature selection\r\n",
        "2.   Resampling data\r\n",
        "\r\n"
      ]
    },
    {
      "cell_type": "code",
      "metadata": {
        "id": "zK-qYuPZNgM6"
      },
      "source": [
        "train.drop(['encounter_id', 'hospital_id', 'Unnamed: 0', 'icu_id'], inplace=True, axis=1)\r\n",
        "predict.drop(['encounter_id', 'hospital_id', 'Unnamed: 0', 'icu_id'], inplace=True, axis=1)"
      ],
      "execution_count": 8,
      "outputs": []
    },
    {
      "cell_type": "markdown",
      "metadata": {
        "id": "OxEwxcQcN6Um"
      },
      "source": [
        "Since our teammates come from diverse background, but not with clinical or medicine prior knowledge, we decide to proceeds as follows:\r\n",
        "\r\n",
        "\r\n",
        "\r\n",
        "1.   Seeking suggestion from experts\r\n",
        "2.   Feature selection from data science point of view.\r\n",
        "\r\n",
        "\r\n",
        "\r\n"
      ]
    },
    {
      "cell_type": "markdown",
      "metadata": {
        "id": "wgQs66E2NyUZ"
      },
      "source": [
        "# Missing values"
      ]
    },
    {
      "cell_type": "markdown",
      "metadata": {
        "id": "3757JJvqbdma"
      },
      "source": [
        "Our strategy is as follows:\r\n",
        "\r\n",
        "*   Drop all columns with >80% missing value.\r\n",
        "*   Drop all row with >50% the remaining features."
      ]
    },
    {
      "cell_type": "code",
      "metadata": {
        "colab": {
          "base_uri": "https://localhost:8080/",
          "height": 405
        },
        "id": "Jj0D6o7CbauR",
        "outputId": "cd3ae217-f727-4774-9d5b-68d15f499ec5"
      },
      "source": [
        "fig, ax = plt.subplots(nrows=1, ncols=2, figsize=(16, 6))\r\n",
        "\r\n",
        "sns.kdeplot(train[train.gender == 'F'].weight, label='Female', color='salmon', ax=ax[0])\r\n",
        "sns.kdeplot(train[train.gender == 'M'].weight, label='Male', color='dodgerblue', ax=ax[0])\r\n",
        "ax[0].set_title('Weight [kg]', fontsize=14)\r\n",
        "\r\n",
        "sns.kdeplot(train[train.gender == 'F'].height, label='Female', color='salmon', ax=ax[1])\r\n",
        "sns.kdeplot(train[train.gender == 'M'].height, label='Male', color='dodgerblue', ax=ax[1])\r\n",
        "ax[1].set_title('Height [cm]', fontsize=14)\r\n",
        "\r\n",
        "plt.show()"
      ],
      "execution_count": 9,
      "outputs": [
        {
          "output_type": "display_data",
          "data": {
            "image/png": "[encoded data removed]",
            "text/plain": [
              "<Figure size 1152x432 with 2 Axes>"
            ]
          },
          "metadata": {
            "tags": [],
            "needs_background": "light"
          }
        }
      ]
    },
    {
      "cell_type": "markdown",
      "metadata": {
        "id": "cmEjofR-dJOn"
      },
      "source": [
        "It is easily to see from the graph that there are significant differences between weight and height of male and female. \r\n",
        "\r\n",
        "Keep them in mind when doing imputation for missing values."
      ]
    },
    {
      "cell_type": "code",
      "metadata": {
        "colab": {
          "base_uri": "https://localhost:8080/"
        },
        "id": "3sL7mZpkdIP_",
        "outputId": "e0f03207-a805-4210-ae7f-51a5075eee58"
      },
      "source": [
        "print(train.groupby('gender')['height'].median())\r\n",
        "print(train['height'].median())\r\n",
        "print(train.groupby('gender')['weight'].median())\r\n",
        "print(train['weight'].median())"
      ],
      "execution_count": 10,
      "outputs": [
        {
          "output_type": "stream",
          "text": [
            "gender\n",
            "F    162.5\n",
            "M    177.8\n",
            "Name: height, dtype: float64\n",
            "170.1\n",
            "gender\n",
            "F    72.5\n",
            "M    85.7\n",
            "Name: weight, dtype: float64\n",
            "80.0\n"
          ],
          "name": "stdout"
        }
      ]
    },
    {
      "cell_type": "code",
      "metadata": {
        "id": "OHVhCFpcsCnJ"
      },
      "source": [
        "# impute the missing height and weight based on median group by genders\r\n",
        "# do the same for train and test set\r\n",
        "\r\n",
        "\r\n",
        "train[\"height\"] = np.where((train.height.isna() & (train.gender == 'F')),\r\n",
        "                              162.5, train[\"height\"])\r\n",
        "train[\"height\"] = np.where((train.height.isna() & (train.gender == 'M')),\r\n",
        "                              177.8, train[\"height\"])\r\n",
        "train[\"height\"] = np.where((train.height.isna() & (train.gender.isna())),\r\n",
        "                              170.1, train[\"height\"])\r\n",
        "train[\"weight\"] = np.where((train.weight.isna() & (train.gender == 'F')),\r\n",
        "                              72.5, train[\"weight\"])\r\n",
        "train[\"weight\"] = np.where((train.weight.isna() & (train.gender == 'M')),\r\n",
        "                              85.7, train[\"weight\"])\r\n",
        "train[\"weight\"] = np.where((train.weight.isna() & (train.gender.isna())),\r\n",
        "                              80, train[\"weight\"])\r\n",
        "\r\n",
        "predict[\"height\"] = np.where((predict.height.isna() & (predict.gender == 'F')),\r\n",
        "                             162.5, predict[\"height\"])\r\n",
        "predict[\"height\"] = np.where((predict.height.isna() & (predict.gender == 'M')),\r\n",
        "                             177.8, predict[\"height\"])\r\n",
        "predict[\"height\"] = np.where((predict.height.isna() & (predict.gender.isna())),\r\n",
        "                              170.1, predict[\"height\"])\r\n",
        "predict[\"weight\"] = np.where((predict.weight.isna() & (predict.gender == 'F')),\r\n",
        "                             72.5, predict[\"weight\"])\r\n",
        "predict[\"weight\"] = np.where((predict.weight.isna() & (predict.gender == 'M')),\r\n",
        "                             85.7, predict[\"weight\"])\r\n",
        "predict[\"weight\"] = np.where((predict.weight.isna() & (predict.gender.isna())),\r\n",
        "                              80, predict[\"weight\"])"
      ],
      "execution_count": 11,
      "outputs": []
    },
    {
      "cell_type": "code",
      "metadata": {
        "id": "gUKv7LNwtCyR"
      },
      "source": [
        "missing_frac = train.isnull().sum()/train.shape[0]\r\n",
        "missing_frac = pd.DataFrame(missing_frac)\r\n",
        "missing_frac.reset_index(inplace =True)\r\n",
        "missing_frac.columns = ['feature', 'missing_rate']"
      ],
      "execution_count": 12,
      "outputs": []
    },
    {
      "cell_type": "code",
      "metadata": {
        "colab": {
          "base_uri": "https://localhost:8080/"
        },
        "id": "ERY6spgutMbn",
        "outputId": "d8db0c38-afab-4fa7-e132-3527e7ba1bf3"
      },
      "source": [
        "# delete all col missing >80%\r\n",
        "todelete = missing_frac[missing_frac['missing_rate'] > 0.8]['feature'].values\r\n",
        "len(todelete)"
      ],
      "execution_count": 13,
      "outputs": [
        {
          "output_type": "execute_result",
          "data": {
            "text/plain": [
              "32"
            ]
          },
          "metadata": {
            "tags": []
          },
          "execution_count": 13
        }
      ]
    },
    {
      "cell_type": "code",
      "metadata": {
        "id": "AaUY92nltNqC"
      },
      "source": [
        "train.drop(todelete, axis = 1, inplace =True)\r\n",
        "predict.drop(todelete, axis = 1, inplace=True)"
      ],
      "execution_count": 14,
      "outputs": []
    },
    {
      "cell_type": "code",
      "metadata": {
        "id": "A6rfR-B6tdbr"
      },
      "source": [
        "# delete all row missing >50% features\r\n",
        "def get_row_miss_percent(df):\r\n",
        "#    \"\"\"\r\n",
        "#    Adds a feature into the dataframe indicating the missing\r\n",
        "#    value percentage of the corresponding row\r\n",
        "#    \"\"\"\r\n",
        "    ncols = df.shape[1]\r\n",
        "    f = (df.isnull().sum(axis=1) / ncols) * 100\r\n",
        "\r\n",
        "    return f\r\n",
        "\r\n",
        "delete_row = get_row_miss_percent(train)"
      ],
      "execution_count": 15,
      "outputs": []
    },
    {
      "cell_type": "code",
      "metadata": {
        "id": "9ba52BBuui7z"
      },
      "source": [
        "train = train.loc[delete_row[:] < 50]"
      ],
      "execution_count": 16,
      "outputs": []
    },
    {
      "cell_type": "markdown",
      "metadata": {
        "id": "vbBlIJR0urhG"
      },
      "source": [
        "Impute missing values within binary and catergory data types\r\n",
        "\r\n",
        "We gather train and test set to ensure that we do the same thing for them"
      ]
    },
    {
      "cell_type": "code",
      "metadata": {
        "id": "dXIGvGmiuqtZ"
      },
      "source": [
        "train_predict = pd.concat([train, predict], axis = 0)\r\n",
        "train_predict.reset_index(inplace=True)\r\n",
        "train_predict = train_predict.drop(['index'], axis = 1)\r\n",
        "categorical_cols = ['ethnicity', 'gender', 'hospital_admit_source',\r\n",
        "                    'icu_admit_source', 'icu_stay_type', 'icu_type',\r\n",
        "                    'label'\r\n",
        "                    ]\r\n",
        "\r\n",
        "\r\n",
        "binary_cols = ['elective_surgery','apache_post_operative','arf_apache',\r\n",
        "               'intubated_apache','ventilated_apache','aids','cirrhosis',\r\n",
        "               'gcs_unable_apache','diabetes_mellitus','hepatic_failure','readmission_status',\r\n",
        "               'immunosuppression','leukemia','lymphoma','solid_tumor_with_metastasis']\r\n",
        "\r\n",
        "for i, v in enumerate(binary_cols):\r\n",
        "    train_predict[v] = train_predict[v].fillna(10)\r\n",
        "\r\n",
        "# filling categorical columns with the most frequent value (mode)\r\n",
        "for i, v in enumerate(categorical_cols):\r\n",
        "    train_predict[v] = train_predict[v].fillna(train[v].value_counts().index[0])"
      ],
      "execution_count": 17,
      "outputs": []
    },
    {
      "cell_type": "code",
      "metadata": {
        "id": "BkfMApdvvYU4"
      },
      "source": [
        "class GroupImputer(BaseEstimator, TransformerMixin):\r\n",
        "    '''\r\n",
        "    Class used for imputing missing values in a pd.DataFrame using either mean or median of a group.\r\n",
        "    \r\n",
        "    Parameters\r\n",
        "    ----------    \r\n",
        "    group_cols : list\r\n",
        "        List of columns used for calculating the aggregated value \r\n",
        "    target : str\r\n",
        "        The name of the column to impute\r\n",
        "    metric : str\r\n",
        "        The metric to be used for remplacement, can be one of ['mean', 'median']\r\n",
        "    Returns\r\n",
        "    -------\r\n",
        "    X : array-like\r\n",
        "        The array with imputed values in the target column\r\n",
        "    '''\r\n",
        "    def __init__(self, group_cols, target, metric='mean'):\r\n",
        "        \r\n",
        "        assert metric in ['mean', 'median'], 'Unrecognized value for metric, should be mean/median'\r\n",
        "        assert type(group_cols) == list, 'group_cols should be a list of columns'\r\n",
        "        assert type(target) == str, 'target should be a string'\r\n",
        "        \r\n",
        "        self.group_cols = group_cols\r\n",
        "        self.target = target\r\n",
        "        self.metric = metric\r\n",
        "    \r\n",
        "    def fit(self, X, y=None):\r\n",
        "        \r\n",
        "        assert pd.isnull(X[self.group_cols]).any(axis=None) == False, 'There are missing values in group_cols'\r\n",
        "        \r\n",
        "        impute_map = X.groupby(self.group_cols)[self.target].agg(self.metric) \\\r\n",
        "                                                            .reset_index(drop=False)\r\n",
        "        \r\n",
        "        self.impute_map_ = impute_map\r\n",
        "        \r\n",
        "        return self \r\n",
        "    \r\n",
        "    def transform(self, X, y=None):\r\n",
        "        \r\n",
        "        # make sure that the imputer was fitted\r\n",
        "        check_is_fitted(self, 'impute_map_')\r\n",
        "        \r\n",
        "        X = X.copy()\r\n",
        "        \r\n",
        "        for index, row in self.impute_map_.iterrows():\r\n",
        "            ind = (X[self.group_cols] == row[self.group_cols]).all(axis=1)\r\n",
        "            X.loc[ind] = X.loc[ind].fillna(row[self.target])\r\n",
        "        \r\n",
        "        return X.values"
      ],
      "execution_count": 18,
      "outputs": []
    },
    {
      "cell_type": "code",
      "metadata": {
        "id": "KyEFeGNlvot2"
      },
      "source": [
        "df_imp = train_predict.copy(deep = True)"
      ],
      "execution_count": 19,
      "outputs": []
    },
    {
      "cell_type": "code",
      "metadata": {
        "id": "erkBujMywJAj"
      },
      "source": [
        "\r\n",
        "features = train_predict.columns\r\n",
        "numeric_cols = [col for col in features if col not in categorical_cols and col not in binary_cols]"
      ],
      "execution_count": 20,
      "outputs": []
    },
    {
      "cell_type": "code",
      "metadata": {
        "id": "9SotkvEovrvP"
      },
      "source": [
        "# for numeric values, we impute by using means group by ethnicity and gender\r\n",
        "for i in range(0, len(numeric_cols)):\r\n",
        "  imp = GroupImputer(group_cols=['ethnicity','gender'], target=numeric_cols[i],metric='mean')\r\n",
        "  df_imp[numeric_cols[i]] = pd.DataFrame(imp.fit_transform(train_predict),columns=train_predict.columns)[numeric_cols[i]]"
      ],
      "execution_count": 21,
      "outputs": []
    },
    {
      "cell_type": "code",
      "metadata": {
        "colab": {
          "base_uri": "https://localhost:8080/"
        },
        "id": "KiDzPKQF2a49",
        "outputId": "c5baed3b-4942-48d4-bd0b-e4579aab0f25"
      },
      "source": [
        "convert_dic = {'ethnicity': str,\r\n",
        "               'gender': str,\r\n",
        "               'hospital_admit_source': str,\r\n",
        "               'icu_admit_source': str,\r\n",
        "               'icu_stay_type': str,\r\n",
        "               'icu_type': str,\r\n",
        "               'label': str,\r\n",
        "               'age':float,\r\n",
        "                'bmi':float,\r\n",
        "                'height':float,\r\n",
        "                'pre_icu_los_days':float,\r\n",
        "                'weight':float,\r\n",
        "                'albumin_apache':float,\r\n",
        "                'apache_2_diagnosis':float,\r\n",
        "                'apache_3j_diagnosis':float,\r\n",
        "                'bilirubin_apache':float,\r\n",
        "                'bun_apache':float,\r\n",
        "                'creatinine_apache':float,\r\n",
        "                'fio2_apache':float,\r\n",
        "                'gcs_eyes_apache':float,\r\n",
        "                'gcs_motor_apache':float,\r\n",
        "                'gcs_verbal_apache':float,\r\n",
        "                'glucose_apache':float,\r\n",
        "                'heart_rate_apache':float,\r\n",
        "                'hematocrit_apache':float,\r\n",
        "                'map_apache':float,\r\n",
        "                'paco2_apache':float,\r\n",
        "                'paco2_for_ph_apache':float,\r\n",
        "                'pao2_apache':float,\r\n",
        "                'ph_apache':float,\r\n",
        "                'resprate_apache':float,\r\n",
        "                'sodium_apache':float,\r\n",
        "                'temp_apache':float,\r\n",
        "                'urineoutput_apache':float,\r\n",
        "                'wbc_apache':float,\r\n",
        "                'd1_diasbp_invasive_max':float,\r\n",
        "                'd1_diasbp_invasive_min':float,\r\n",
        "                'd1_diasbp_max':float,\r\n",
        "                'd1_diasbp_min':float,\r\n",
        "                'd1_diasbp_noninvasive_max':float,\r\n",
        "                'd1_diasbp_noninvasive_min':float,\r\n",
        "                'd1_heartrate_max':float,\r\n",
        "                'd1_heartrate_min':float,\r\n",
        "                'd1_mbp_invasive_max':float,\r\n",
        "                'd1_mbp_invasive_min':float,\r\n",
        "                'd1_mbp_max':float,\r\n",
        "                'd1_mbp_min':float,\r\n",
        "                'd1_mbp_noninvasive_max':float,\r\n",
        "                'd1_mbp_noninvasive_min':float,\r\n",
        "                'd1_resprate_max':float,\r\n",
        "                'd1_resprate_min':float,\r\n",
        "                'd1_spo2_max':float,\r\n",
        "                'd1_spo2_min':float,\r\n",
        "                'd1_sysbp_invasive_max':float,\r\n",
        "                'd1_sysbp_invasive_min':float,\r\n",
        "                'd1_sysbp_max':float,\r\n",
        "                'd1_sysbp_min':float,\r\n",
        "                'd1_sysbp_noninvasive_max':float,\r\n",
        "                'd1_sysbp_noninvasive_min':float,\r\n",
        "                'd1_temp_max':float,\r\n",
        "                'd1_temp_min':float,\r\n",
        "                'h1_diasbp_max':float,\r\n",
        "                'h1_diasbp_min':float,\r\n",
        "                'h1_diasbp_noninvasive_max':float,\r\n",
        "                'h1_diasbp_noninvasive_min':float,\r\n",
        "                'h1_heartrate_max':float,\r\n",
        "                'h1_heartrate_min':float,\r\n",
        "                'h1_mbp_max':float,\r\n",
        "                'h1_mbp_min':float,\r\n",
        "                'h1_mbp_noninvasive_max':float,\r\n",
        "                'h1_mbp_noninvasive_min':float,\r\n",
        "                'h1_resprate_max':float,\r\n",
        "                'h1_resprate_min':float,\r\n",
        "                'h1_spo2_max':float,\r\n",
        "                'h1_spo2_min':float,\r\n",
        "                'h1_sysbp_max':float,\r\n",
        "                'h1_sysbp_min':float,\r\n",
        "                'h1_sysbp_noninvasive_max':float,\r\n",
        "                'h1_sysbp_noninvasive_min':float,\r\n",
        "                'h1_temp_max':float,\r\n",
        "                'h1_temp_min':float,\r\n",
        "                'd1_albumin_max':float,\r\n",
        "                'd1_albumin_min':float,\r\n",
        "                'd1_bilirubin_max':float,\r\n",
        "                'd1_bilirubin_min':float,\r\n",
        "                'd1_bun_max':float,\r\n",
        "                'd1_bun_min':float,\r\n",
        "                'd1_calcium_max':float,\r\n",
        "                'd1_calcium_min':float,\r\n",
        "                'd1_creatinine_max':float,\r\n",
        "                'd1_creatinine_min':float,\r\n",
        "                'd1_glucose_max':float,\r\n",
        "                'd1_glucose_min':float,\r\n",
        "                'd1_hco3_max':float,\r\n",
        "                'd1_hco3_min':float,\r\n",
        "                'd1_hemaglobin_max':float,\r\n",
        "                'd1_hemaglobin_min':float,\r\n",
        "                'd1_hematocrit_max':float,\r\n",
        "                'd1_hematocrit_min':float,\r\n",
        "                'd1_inr_max':float,\r\n",
        "                'd1_inr_min':float,\r\n",
        "                'd1_lactate_max':float,\r\n",
        "                'd1_lactate_min':float,\r\n",
        "                'd1_platelets_max':float,\r\n",
        "                'd1_platelets_min':float,\r\n",
        "                'd1_potassium_max':float,\r\n",
        "                'd1_potassium_min':float,\r\n",
        "                'd1_sodium_max':float,\r\n",
        "                'd1_sodium_min':float,\r\n",
        "                'd1_wbc_max':float,\r\n",
        "                'd1_wbc_min':float,\r\n",
        "                'h1_glucose_max':float,\r\n",
        "                'h1_glucose_min':float,\r\n",
        "                'h1_hemaglobin_max':float,\r\n",
        "                'h1_hemaglobin_min':float,\r\n",
        "                'h1_hematocrit_max':float,\r\n",
        "                'h1_hematocrit_min':float,\r\n",
        "                'h1_inr_max':float,\r\n",
        "                'h1_inr_min':float,\r\n",
        "                'h1_potassium_max':float,\r\n",
        "                'h1_potassium_min':float,\r\n",
        "                'h1_sodium_max':float,\r\n",
        "                'h1_sodium_min':float,\r\n",
        "                'd1_arterial_pco2_max':float,\r\n",
        "                'd1_arterial_pco2_min':float,\r\n",
        "                'd1_arterial_ph_max':float,\r\n",
        "                'd1_arterial_ph_min':float,\r\n",
        "                'd1_arterial_po2_max':float,\r\n",
        "                'd1_arterial_po2_min':float,\r\n",
        "                'd1_pao2fio2ratio_max':float,\r\n",
        "                'd1_pao2fio2ratio_min':float\r\n",
        "}\r\n",
        "df_imp = df_imp.astype(convert_dic) \r\n",
        "print(df_imp.dtypes) "
      ],
      "execution_count": 22,
      "outputs": [
        {
          "output_type": "stream",
          "text": [
            "age                            float64\n",
            "bmi                            float64\n",
            "elective_surgery                 int64\n",
            "ethnicity                       object\n",
            "gender                          object\n",
            "                                ...   \n",
            "leukemia                         int64\n",
            "lymphoma                         int64\n",
            "solid_tumor_with_metastasis      int64\n",
            "diabetes_mellitus              float64\n",
            "label                           object\n",
            "Length: 146, dtype: object\n"
          ],
          "name": "stdout"
        }
      ]
    },
    {
      "cell_type": "code",
      "metadata": {
        "colab": {
          "base_uri": "https://localhost:8080/",
          "height": 243
        },
        "id": "PPHbZM-X2f2U",
        "outputId": "72756d09-6a02-4cfe-b8df-bc29f163d52c"
      },
      "source": [
        "# encode the catogorical variables\r\n",
        "cat_variables = train_predict[categorical_cols]\r\n",
        "cat_dummies = pd.get_dummies(cat_variables, drop_first=True)\r\n",
        "cat_dummies.head()"
      ],
      "execution_count": 23,
      "outputs": [
        {
          "output_type": "execute_result",
          "data": {
            "text/html": [
              "<div>\n",
              "<style scoped>\n",
              "    .dataframe tbody tr th:only-of-type {\n",
              "        vertical-align: middle;\n",
              "    }\n",
              "\n",
              "    .dataframe tbody tr th {\n",
              "        vertical-align: top;\n",
              "    }\n",
              "\n",
              "    .dataframe thead th {\n",
              "        text-align: right;\n",
              "    }\n",
              "</style>\n",
              "<table border=\"1\" class=\"dataframe\">\n",
              "  <thead>\n",
              "    <tr style=\"text-align: right;\">\n",
              "      <th></th>\n",
              "      <th>ethnicity_Asian</th>\n",
              "      <th>ethnicity_Caucasian</th>\n",
              "      <th>ethnicity_Hispanic</th>\n",
              "      <th>ethnicity_Native American</th>\n",
              "      <th>ethnicity_Other/Unknown</th>\n",
              "      <th>gender_M</th>\n",
              "      <th>hospital_admit_source_Chest Pain Center</th>\n",
              "      <th>hospital_admit_source_Direct Admit</th>\n",
              "      <th>hospital_admit_source_Emergency Department</th>\n",
              "      <th>hospital_admit_source_Floor</th>\n",
              "      <th>hospital_admit_source_ICU</th>\n",
              "      <th>hospital_admit_source_ICU to SDU</th>\n",
              "      <th>hospital_admit_source_Observation</th>\n",
              "      <th>hospital_admit_source_Operating Room</th>\n",
              "      <th>hospital_admit_source_Other</th>\n",
              "      <th>hospital_admit_source_Other Hospital</th>\n",
              "      <th>hospital_admit_source_Other ICU</th>\n",
              "      <th>hospital_admit_source_PACU</th>\n",
              "      <th>hospital_admit_source_Recovery Room</th>\n",
              "      <th>hospital_admit_source_Step-Down Unit (SDU)</th>\n",
              "      <th>icu_admit_source_Floor</th>\n",
              "      <th>icu_admit_source_Operating Room / Recovery</th>\n",
              "      <th>icu_admit_source_Other Hospital</th>\n",
              "      <th>icu_admit_source_Other ICU</th>\n",
              "      <th>icu_stay_type_readmit</th>\n",
              "      <th>icu_stay_type_transfer</th>\n",
              "      <th>icu_type_CSICU</th>\n",
              "      <th>icu_type_CTICU</th>\n",
              "      <th>icu_type_Cardiac ICU</th>\n",
              "      <th>icu_type_MICU</th>\n",
              "      <th>icu_type_Med-Surg ICU</th>\n",
              "      <th>icu_type_Neuro ICU</th>\n",
              "      <th>icu_type_SICU</th>\n",
              "      <th>label_train</th>\n",
              "    </tr>\n",
              "  </thead>\n",
              "  <tbody>\n",
              "    <tr>\n",
              "      <th>0</th>\n",
              "      <td>0</td>\n",
              "      <td>1</td>\n",
              "      <td>0</td>\n",
              "      <td>0</td>\n",
              "      <td>0</td>\n",
              "      <td>1</td>\n",
              "      <td>0</td>\n",
              "      <td>0</td>\n",
              "      <td>0</td>\n",
              "      <td>1</td>\n",
              "      <td>0</td>\n",
              "      <td>0</td>\n",
              "      <td>0</td>\n",
              "      <td>0</td>\n",
              "      <td>0</td>\n",
              "      <td>0</td>\n",
              "      <td>0</td>\n",
              "      <td>0</td>\n",
              "      <td>0</td>\n",
              "      <td>0</td>\n",
              "      <td>1</td>\n",
              "      <td>0</td>\n",
              "      <td>0</td>\n",
              "      <td>0</td>\n",
              "      <td>0</td>\n",
              "      <td>0</td>\n",
              "      <td>0</td>\n",
              "      <td>1</td>\n",
              "      <td>0</td>\n",
              "      <td>0</td>\n",
              "      <td>0</td>\n",
              "      <td>0</td>\n",
              "      <td>0</td>\n",
              "      <td>1</td>\n",
              "    </tr>\n",
              "    <tr>\n",
              "      <th>1</th>\n",
              "      <td>0</td>\n",
              "      <td>1</td>\n",
              "      <td>0</td>\n",
              "      <td>0</td>\n",
              "      <td>0</td>\n",
              "      <td>0</td>\n",
              "      <td>0</td>\n",
              "      <td>0</td>\n",
              "      <td>0</td>\n",
              "      <td>1</td>\n",
              "      <td>0</td>\n",
              "      <td>0</td>\n",
              "      <td>0</td>\n",
              "      <td>0</td>\n",
              "      <td>0</td>\n",
              "      <td>0</td>\n",
              "      <td>0</td>\n",
              "      <td>0</td>\n",
              "      <td>0</td>\n",
              "      <td>0</td>\n",
              "      <td>1</td>\n",
              "      <td>0</td>\n",
              "      <td>0</td>\n",
              "      <td>0</td>\n",
              "      <td>0</td>\n",
              "      <td>0</td>\n",
              "      <td>0</td>\n",
              "      <td>0</td>\n",
              "      <td>0</td>\n",
              "      <td>0</td>\n",
              "      <td>1</td>\n",
              "      <td>0</td>\n",
              "      <td>0</td>\n",
              "      <td>1</td>\n",
              "    </tr>\n",
              "    <tr>\n",
              "      <th>2</th>\n",
              "      <td>0</td>\n",
              "      <td>1</td>\n",
              "      <td>0</td>\n",
              "      <td>0</td>\n",
              "      <td>0</td>\n",
              "      <td>0</td>\n",
              "      <td>0</td>\n",
              "      <td>0</td>\n",
              "      <td>1</td>\n",
              "      <td>0</td>\n",
              "      <td>0</td>\n",
              "      <td>0</td>\n",
              "      <td>0</td>\n",
              "      <td>0</td>\n",
              "      <td>0</td>\n",
              "      <td>0</td>\n",
              "      <td>0</td>\n",
              "      <td>0</td>\n",
              "      <td>0</td>\n",
              "      <td>0</td>\n",
              "      <td>0</td>\n",
              "      <td>0</td>\n",
              "      <td>0</td>\n",
              "      <td>0</td>\n",
              "      <td>0</td>\n",
              "      <td>0</td>\n",
              "      <td>0</td>\n",
              "      <td>0</td>\n",
              "      <td>0</td>\n",
              "      <td>0</td>\n",
              "      <td>1</td>\n",
              "      <td>0</td>\n",
              "      <td>0</td>\n",
              "      <td>1</td>\n",
              "    </tr>\n",
              "    <tr>\n",
              "      <th>3</th>\n",
              "      <td>0</td>\n",
              "      <td>1</td>\n",
              "      <td>0</td>\n",
              "      <td>0</td>\n",
              "      <td>0</td>\n",
              "      <td>0</td>\n",
              "      <td>0</td>\n",
              "      <td>0</td>\n",
              "      <td>0</td>\n",
              "      <td>0</td>\n",
              "      <td>0</td>\n",
              "      <td>0</td>\n",
              "      <td>0</td>\n",
              "      <td>1</td>\n",
              "      <td>0</td>\n",
              "      <td>0</td>\n",
              "      <td>0</td>\n",
              "      <td>0</td>\n",
              "      <td>0</td>\n",
              "      <td>0</td>\n",
              "      <td>0</td>\n",
              "      <td>1</td>\n",
              "      <td>0</td>\n",
              "      <td>0</td>\n",
              "      <td>0</td>\n",
              "      <td>0</td>\n",
              "      <td>0</td>\n",
              "      <td>1</td>\n",
              "      <td>0</td>\n",
              "      <td>0</td>\n",
              "      <td>0</td>\n",
              "      <td>0</td>\n",
              "      <td>0</td>\n",
              "      <td>1</td>\n",
              "    </tr>\n",
              "    <tr>\n",
              "      <th>4</th>\n",
              "      <td>0</td>\n",
              "      <td>1</td>\n",
              "      <td>0</td>\n",
              "      <td>0</td>\n",
              "      <td>0</td>\n",
              "      <td>1</td>\n",
              "      <td>0</td>\n",
              "      <td>1</td>\n",
              "      <td>0</td>\n",
              "      <td>0</td>\n",
              "      <td>0</td>\n",
              "      <td>0</td>\n",
              "      <td>0</td>\n",
              "      <td>0</td>\n",
              "      <td>0</td>\n",
              "      <td>0</td>\n",
              "      <td>0</td>\n",
              "      <td>0</td>\n",
              "      <td>0</td>\n",
              "      <td>0</td>\n",
              "      <td>0</td>\n",
              "      <td>0</td>\n",
              "      <td>0</td>\n",
              "      <td>0</td>\n",
              "      <td>0</td>\n",
              "      <td>0</td>\n",
              "      <td>0</td>\n",
              "      <td>0</td>\n",
              "      <td>0</td>\n",
              "      <td>0</td>\n",
              "      <td>1</td>\n",
              "      <td>0</td>\n",
              "      <td>0</td>\n",
              "      <td>1</td>\n",
              "    </tr>\n",
              "  </tbody>\n",
              "</table>\n",
              "</div>"
            ],
            "text/plain": [
              "   ethnicity_Asian  ethnicity_Caucasian  ...  icu_type_SICU  label_train\n",
              "0                0                    1  ...              0            1\n",
              "1                0                    1  ...              0            1\n",
              "2                0                    1  ...              0            1\n",
              "3                0                    1  ...              0            1\n",
              "4                0                    1  ...              0            1\n",
              "\n",
              "[5 rows x 34 columns]"
            ]
          },
          "metadata": {
            "tags": []
          },
          "execution_count": 23
        }
      ]
    },
    {
      "cell_type": "code",
      "metadata": {
        "id": "hh-lhYI72rNs"
      },
      "source": [
        "df_imp = df_imp.drop(categorical_cols, axis=1)\r\n",
        "df_imp = pd.concat([df_imp, cat_dummies], axis=1)\r\n",
        "target = df_imp.loc[:, ['diabetes_mellitus', 'label_train']]\r\n",
        "df_imp = df_imp.drop(['diabetes_mellitus', 'label_train'], axis = 1)\r\n",
        "df_imp = pd.concat([df_imp, target], axis = 1)"
      ],
      "execution_count": 24,
      "outputs": []
    },
    {
      "cell_type": "code",
      "metadata": {
        "id": "i77Hlhvp22YS"
      },
      "source": [
        "def bmiCategory(bmi):\r\n",
        "    if bmi < 18.5:\r\n",
        "        return \"underweight\"\r\n",
        "    elif bmi < 24.9:\r\n",
        "        return \"normal\"\r\n",
        "    elif bmi < 29.9:\r\n",
        "        return \"overweight\"\r\n",
        "    else:\r\n",
        "        return \"obese\"\r\n",
        "\r\n",
        "df_imp[\"bmi_category\"] = df_imp[\"bmi\"].apply(bmiCategory)"
      ],
      "execution_count": 25,
      "outputs": []
    },
    {
      "cell_type": "code",
      "metadata": {
        "id": "Z-3GUotu3sXY"
      },
      "source": [
        "training_set = df_imp[df_imp['label_train']==1]\r\n",
        "testing_set = df_imp[df_imp['label_train']==0]"
      ],
      "execution_count": 26,
      "outputs": []
    },
    {
      "cell_type": "code",
      "metadata": {
        "colab": {
          "base_uri": "https://localhost:8080/",
          "height": 403
        },
        "id": "InfiszcW3rSU",
        "outputId": "47926256-0743-426e-ea5e-b482e47c2ede"
      },
      "source": [
        "sns.catplot(x=\"bmi_category\",y=\"diabetes_mellitus\",kind=\"bar\",data=training_set)"
      ],
      "execution_count": 27,
      "outputs": [
        {
          "output_type": "execute_result",
          "data": {
            "text/plain": [
              "<seaborn.axisgrid.FacetGrid at 0x7fca6e56b690>"
            ]
          },
          "metadata": {
            "tags": []
          },
          "execution_count": 27
        },
        {
          "output_type": "display_data",
          "data": {
            "image/png": "[encoded data removed]",
            "text/plain": [
              "<Figure size 360x360 with 1 Axes>"
            ]
          },
          "metadata": {
            "tags": [],
            "needs_background": "light"
          }
        }
      ]
    },
    {
      "cell_type": "markdown",
      "metadata": {
        "id": "7VeyBkiU38pa"
      },
      "source": [
        "It is noteworthy that obese and overweight patients tend to have diabettes mellitus than other groups. We can encode BMI category according to ordinal encode."
      ]
    },
    {
      "cell_type": "code",
      "metadata": {
        "colab": {
          "base_uri": "https://localhost:8080/",
          "height": 337
        },
        "id": "v24yurSz25lf",
        "outputId": "08b55add-0a74-40a1-9814-ceeaf3afa4f5"
      },
      "source": [
        "df_imp[\"bmi_category\"].value_counts(normalize=True).plot(kind='bar')"
      ],
      "execution_count": 28,
      "outputs": [
        {
          "output_type": "execute_result",
          "data": {
            "text/plain": [
              "<matplotlib.axes._subplots.AxesSubplot at 0x7fca4d3ff650>"
            ]
          },
          "metadata": {
            "tags": []
          },
          "execution_count": 28
        },
        {
          "output_type": "display_data",
          "data": {
            "image/png": "[encoded data removed]",
            "text/plain": [
              "<Figure size 432x288 with 1 Axes>"
            ]
          },
          "metadata": {
            "tags": [],
            "needs_background": "light"
          }
        }
      ]
    },
    {
      "cell_type": "code",
      "metadata": {
        "id": "LBSatL5V3pqA"
      },
      "source": [
        "df_imp[\"bmi_category\"] = np.where(df_imp['bmi_category'] == 'obese', 3, df_imp['bmi_category'])\r\n",
        "df_imp[\"bmi_category\"] = np.where(df_imp['bmi_category'] == 'overweight', 2, df_imp['bmi_category'])\r\n",
        "df_imp[\"bmi_category\"] = np.where(df_imp['bmi_category'] == 'normal', 1, df_imp['bmi_category'])\r\n",
        "df_imp[\"bmi_category\"] = np.where(df_imp['bmi_category'] == 'underweight', 0, df_imp['bmi_category'])"
      ],
      "execution_count": 29,
      "outputs": []
    },
    {
      "cell_type": "code",
      "metadata": {
        "id": "M2_ZTY1n4wya"
      },
      "source": [
        "df_imp.drop('bmi', axis = 1, inplace= True)"
      ],
      "execution_count": 30,
      "outputs": []
    },
    {
      "cell_type": "code",
      "metadata": {
        "id": "lgKwbMtM4-wz"
      },
      "source": [
        "target = df_imp['diabetes_mellitus']\r\n",
        "df_imp.drop('diabetes_mellitus', axis = 1, inplace = True)\r\n",
        "df_imp['label'] = target \r\n",
        "training_set = df_imp[df_imp['label_train']==1]\r\n",
        "testing_set = df_imp[df_imp['label_train']==0]\r\n",
        "training_set = training_set.drop('label_train', axis = 1)\r\n",
        "testing_set = testing_set.drop('label_train', axis = 1)"
      ],
      "execution_count": 31,
      "outputs": []
    },
    {
      "cell_type": "code",
      "metadata": {
        "colab": {
          "base_uri": "https://localhost:8080/"
        },
        "id": "fPxfRoAL5P6A",
        "outputId": "f5a5b8a5-2b87-4b0d-c0ba-dca0f14f3753"
      },
      "source": [
        "testing_set.drop('label', axis = 1, inplace= True)\r\n",
        "print(training_set.head())\r\n",
        "print(testing_set.head())"
      ],
      "execution_count": 32,
      "outputs": [
        {
          "output_type": "stream",
          "text": [
            "    age  elective_surgery  height  ...  icu_type_SICU  bmi_category  label\n",
            "0  68.0                 0   180.3  ...              0             1    1.0\n",
            "1  77.0                 0   160.0  ...              0             2    1.0\n",
            "2  25.0                 0   172.7  ...              0             3    0.0\n",
            "3  81.0                 1   165.1  ...              0             1    0.0\n",
            "4  67.0                 0   190.5  ...              0             2    1.0\n",
            "\n",
            "[5 rows x 172 columns]\n",
            "         age  elective_surgery  ...  icu_type_SICU  bmi_category\n",
            "128657  72.0                 0  ...              0             2\n",
            "128658  86.0                 0  ...              0             2\n",
            "128659  72.0                 0  ...              0             2\n",
            "128660  66.0                 0  ...              0             2\n",
            "128661  89.0                 0  ...              0             2\n",
            "\n",
            "[5 rows x 171 columns]\n"
          ],
          "name": "stdout"
        }
      ]
    },
    {
      "cell_type": "code",
      "metadata": {
        "id": "mhsVt6yX5ZAh"
      },
      "source": [
        "training_set.to_csv('/content/gdrive/My Drive/WIDS/cleaned_data_train_final.csv')\r\n",
        "testing_set.to_csv('/content/gdrive/My Drive/WIDS/cleaned_data_test_final.csv')"
      ],
      "execution_count": 33,
      "outputs": []
    },
    {
      "cell_type": "markdown",
      "metadata": {
        "id": "wyWOXjBVKcqT"
      },
      "source": [
        "# Building model\r\n",
        "\r\n",
        "As mentioned above, the dataset is imbalanced, therefore, it'd better to resample it before training any model."
      ]
    },
    {
      "cell_type": "code",
      "metadata": {
        "id": "K3RXeyRG5fRx"
      },
      "source": [
        "dictionary = pd.read_excel('/content/gdrive/My Drive/WIDS/DataDictionaryWiDS2021-fixed-thu-tu.xlsx')"
      ],
      "execution_count": 34,
      "outputs": []
    },
    {
      "cell_type": "code",
      "metadata": {
        "colab": {
          "base_uri": "https://localhost:8080/",
          "height": 206
        },
        "id": "Zkh_A0PLK54h",
        "outputId": "a5f60868-de8c-4ed1-df85-f5e95fc890f2"
      },
      "source": [
        "dictionary.head()"
      ],
      "execution_count": 35,
      "outputs": [
        {
          "output_type": "execute_result",
          "data": {
            "text/html": [
              "<div>\n",
              "<style scoped>\n",
              "    .dataframe tbody tr th:only-of-type {\n",
              "        vertical-align: middle;\n",
              "    }\n",
              "\n",
              "    .dataframe tbody tr th {\n",
              "        vertical-align: top;\n",
              "    }\n",
              "\n",
              "    .dataframe thead th {\n",
              "        text-align: right;\n",
              "    }\n",
              "</style>\n",
              "<table border=\"1\" class=\"dataframe\">\n",
              "  <thead>\n",
              "    <tr style=\"text-align: right;\">\n",
              "      <th></th>\n",
              "      <th>class</th>\n",
              "      <th>feature</th>\n",
              "      <th>value</th>\n",
              "      <th>type</th>\n",
              "      <th>description</th>\n",
              "      <th>example</th>\n",
              "      <th>rank</th>\n",
              "    </tr>\n",
              "  </thead>\n",
              "  <tbody>\n",
              "    <tr>\n",
              "      <th>0</th>\n",
              "      <td>APACHE covariate</td>\n",
              "      <td>glucose_apache</td>\n",
              "      <td>mmol/L</td>\n",
              "      <td>numeric</td>\n",
              "      <td>The glucose concentration measured during the ...</td>\n",
              "      <td>5</td>\n",
              "      <td>1</td>\n",
              "    </tr>\n",
              "    <tr>\n",
              "      <th>1</th>\n",
              "      <td>labs</td>\n",
              "      <td>h1_glucose_max</td>\n",
              "      <td>mmol/L</td>\n",
              "      <td>numeric</td>\n",
              "      <td>The highest glucose concentration of the patie...</td>\n",
              "      <td>5</td>\n",
              "      <td>2</td>\n",
              "    </tr>\n",
              "    <tr>\n",
              "      <th>2</th>\n",
              "      <td>labs</td>\n",
              "      <td>h1_glucose_min</td>\n",
              "      <td>mmol/L</td>\n",
              "      <td>numeric</td>\n",
              "      <td>The lowest glucose concentration of the patien...</td>\n",
              "      <td>5</td>\n",
              "      <td>2</td>\n",
              "    </tr>\n",
              "    <tr>\n",
              "      <th>3</th>\n",
              "      <td>labs</td>\n",
              "      <td>d1_glucose_max</td>\n",
              "      <td>mmol/L</td>\n",
              "      <td>numeric</td>\n",
              "      <td>The highest glucose concentration of the patie...</td>\n",
              "      <td>5</td>\n",
              "      <td>3</td>\n",
              "    </tr>\n",
              "    <tr>\n",
              "      <th>4</th>\n",
              "      <td>labs</td>\n",
              "      <td>d1_glucose_min</td>\n",
              "      <td>mmol/L</td>\n",
              "      <td>numeric</td>\n",
              "      <td>The lowest glucose concentration of the patien...</td>\n",
              "      <td>5</td>\n",
              "      <td>3</td>\n",
              "    </tr>\n",
              "  </tbody>\n",
              "</table>\n",
              "</div>"
            ],
            "text/plain": [
              "              class         feature  ... example rank\n",
              "0  APACHE covariate  glucose_apache  ...       5    1\n",
              "1              labs  h1_glucose_max  ...       5    2\n",
              "2              labs  h1_glucose_min  ...       5    2\n",
              "3              labs  d1_glucose_max  ...       5    3\n",
              "4              labs  d1_glucose_min  ...       5    3\n",
              "\n",
              "[5 rows x 7 columns]"
            ]
          },
          "metadata": {
            "tags": []
          },
          "execution_count": 35
        }
      ]
    },
    {
      "cell_type": "markdown",
      "metadata": {
        "id": "h8EZemRUK-v5"
      },
      "source": [
        "This is the suggestion from Mr. A, a PhD candidate in Medicine, who are doing research at a University in Australia.\r\n",
        "\r\n",
        "Together with these valuable ranking, we also apply some feature selection algorithm to see whether two results coming from different perspectives are consitent or not."
      ]
    },
    {
      "cell_type": "markdown",
      "metadata": {
        "id": "-67r-vw0POyd"
      },
      "source": [
        "# Feature selection under data science perspective"
      ]
    },
    {
      "cell_type": "code",
      "metadata": {
        "id": "2TqOjl22C8_o"
      },
      "source": [
        "# load training set, which is used for both training and evaluating\r\n",
        "df = pd.read_csv('/content/gdrive/My Drive/WIDS/cleaned_data_train_final.csv')"
      ],
      "execution_count": 38,
      "outputs": []
    },
    {
      "cell_type": "code",
      "metadata": {
        "colab": {
          "base_uri": "https://localhost:8080/"
        },
        "id": "B1x2tC7DDG7I",
        "outputId": "0d302833-80df-4ebd-865c-14953380137f"
      },
      "source": [
        "# before applying some classification feature selection, we should resample data to make sure that the number of patient with and without\r\n",
        "#diabettes mellitus is not significantly imbalanced. The skewed data set would result in serious bias \r\n",
        "X = df.iloc[:, : -1]\r\n",
        "y = df.iloc[:,-1]\r\n",
        "X_train, X_test, y_train, y_test = train_test_split(X, y, test_size=0.250, random_state=1, stratify=y)\r\n",
        "print(Counter(y))\r\n",
        "over = RandomOverSampler(sampling_strategy=0.4)\r\n",
        "X_com, y_com = over.fit_resample(X_train, y_train)\r\n",
        "print(Counter(y_com))\r\n",
        "under = RandomUnderSampler(sampling_strategy=0.7)\r\n",
        "X_com, y_com = under.fit_resample(X_com, y_com)\r\n",
        "print(Counter(y_com))\r\n",
        "X_com = pd.DataFrame(X_com)\r\n",
        "X_com.columns = X.columns\r\n",
        "X_com.drop('Unnamed: 0', axis = 1, inplace = True)"
      ],
      "execution_count": 45,
      "outputs": [
        {
          "output_type": "stream",
          "text": [
            "Counter({0.0: 100699, 1.0: 27958})\n",
            "Counter({0.0: 75524, 1.0: 30209})\n",
            "Counter({0.0: 43155, 1.0: 30209})\n"
          ],
          "name": "stdout"
        },
        {
          "output_type": "stream",
          "text": [
            "/usr/local/lib/python3.7/dist-packages/sklearn/utils/deprecation.py:87: FutureWarning: Function safe_indexing is deprecated; safe_indexing is deprecated in version 0.22 and will be removed in version 0.24.\n",
            "  warnings.warn(msg, category=FutureWarning)\n",
            "/usr/local/lib/python3.7/dist-packages/sklearn/utils/deprecation.py:87: FutureWarning: Function safe_indexing is deprecated; safe_indexing is deprecated in version 0.22 and will be removed in version 0.24.\n",
            "  warnings.warn(msg, category=FutureWarning)\n"
          ],
          "name": "stderr"
        }
      ]
    },
    {
      "cell_type": "markdown",
      "metadata": {
        "id": "t7bsk2UsKusf"
      },
      "source": [
        "Now we have a better data set."
      ]
    },
    {
      "cell_type": "markdown",
      "metadata": {
        "id": "tBGMgnwmCabx"
      },
      "source": [
        "## Random Forest in Feature selection"
      ]
    },
    {
      "cell_type": "code",
      "metadata": {
        "id": "QfNjG8oDQJLY"
      },
      "source": [
        "rfc = RandomForestClassifier(n_jobs = -1, random_state= 0)\r\n",
        "rfc.fit(X_com, y_com)\r\n",
        "fet_indrfc = np.argsort(rfc.feature_importances_)[::-1]\r\n",
        "fet_imp = rfc.feature_importances_[fet_indrfc]"
      ],
      "execution_count": 46,
      "outputs": []
    },
    {
      "cell_type": "code",
      "metadata": {
        "colab": {
          "base_uri": "https://localhost:8080/",
          "height": 729
        },
        "id": "SvWbmoejT2W9",
        "outputId": "5016fffe-97ed-4a9d-a102-dbd4e32fb728"
      },
      "source": [
        "feature_imp = pd.DataFrame(sorted(zip(rfc.feature_importances_,X_com.columns)), columns=['Value','Feature'])\r\n",
        "fea_rf = feature_imp.sort_values(by=\"Value\", ascending=False)\r\n",
        "fea_rf = fea_rf.iloc[0:50, :]\r\n",
        "plt.figure(figsize=(10, 10))\r\n",
        "sns.barplot(x=\"Value\", y=\"Feature\", data=fea_rf)\r\n",
        "plt.title('RF Features')\r\n",
        "plt.tight_layout()\r\n",
        "plt.show()"
      ],
      "execution_count": 47,
      "outputs": [
        {
          "output_type": "display_data",
          "data": {
            "image/png": "[encoded data removed]",
            "text/plain": [
              "<Figure size 720x720 with 1 Axes>"
            ]
          },
          "metadata": {
            "tags": [],
            "needs_background": "light"
          }
        }
      ]
    },
    {
      "cell_type": "markdown",
      "metadata": {
        "id": "VwOdZw7qONUx"
      },
      "source": [
        "At first glance, the set important features identified by feature selection algorithms is very similar to the list suggested by expert.\r\n",
        "\r\n",
        "\r\n",
        "Let's take a look at other methods"
      ]
    },
    {
      "cell_type": "markdown",
      "metadata": {
        "id": "b-J4FAxsOwlD"
      },
      "source": [
        "## Lasso in Feature Selections"
      ]
    },
    {
      "cell_type": "code",
      "metadata": {
        "colab": {
          "base_uri": "https://localhost:8080/",
          "height": 729
        },
        "id": "zSNiyA3JU5Sx",
        "outputId": "f04c7186-ac0d-48a1-96fe-93f8d25e5ea5"
      },
      "source": [
        "from sklearn.linear_model import LassoCV\r\n",
        "lasso = LassoCV().fit(X_com.values, y_com)\r\n",
        "importance = np.abs(lasso.coef_)\r\n",
        "feature_names = np.array(X_train.columns)\r\n",
        "\r\n",
        "fet_indrf2 = np.argsort(importance)[::-1]\r\n",
        "feature_imp = pd.DataFrame(columns=['Value','Feature'])\r\n",
        "feature_imp.loc[:,'Value'] = importance\r\n",
        "feature_imp.loc[:,'Feature'] = X_com.columns\r\n",
        "\r\n",
        "feature_imp = pd.DataFrame(sorted(zip(importance, X_com.columns)), columns=['Value','Feature'])\r\n",
        "fea_lasso = feature_imp.sort_values(by=\"Value\", ascending=False)\r\n",
        "fea_lasso = fea_lasso.iloc[0:50, :]\r\n",
        "plt.figure(figsize=(10, 10))\r\n",
        "sns.barplot(x=\"Value\", y=\"Feature\", data=fea_lasso)\r\n",
        "plt.title('Lasso Features')\r\n",
        "plt.tight_layout()"
      ],
      "execution_count": 48,
      "outputs": [
        {
          "output_type": "display_data",
          "data": {
            "image/png": "[encoded data removed]",
            "text/plain": [
              "<Figure size 720x720 with 1 Axes>"
            ]
          },
          "metadata": {
            "tags": [],
            "needs_background": "light"
          }
        }
      ]
    },
    {
      "cell_type": "code",
      "metadata": {
        "id": "X6-AZLRvVslZ"
      },
      "source": [
        "def feature_imp(df_com, target):\r\n",
        "    from sklearn.tree import ExtraTreeRegressor\r\n",
        "    from collections import Counter\r\n",
        "    # Build a forest and compute the feature importances\r\n",
        "    forest = ExtraTreeRegressor(splitter='best', max_leaf_nodes=500)\r\n",
        "\r\n",
        "    forest.fit(df_com, target)\r\n",
        "    importances = forest.feature_importances_\r\n",
        "    # std = np.std([tree.feature_importances_ for tree in forest.estimators_], axis=0)\r\n",
        "    indices = np.argsort(importances)[::-1]\r\n",
        "    return indices"
      ],
      "execution_count": 69,
      "outputs": []
    },
    {
      "cell_type": "code",
      "metadata": {
        "colab": {
          "base_uri": "https://localhost:8080/"
        },
        "id": "ySH9qvUrXwhK",
        "outputId": "a4ea7fb1-f6a6-4206-bd74-7e0873a5da34"
      },
      "source": [
        "fea_imp_extratree = feature_imp(X_com, y_com)\r\n",
        "fea_extraregress = X_com[X_com.columns[fea_imp_extratree[0:50]]].columns\r\n",
        "print(fea_extraregress)"
      ],
      "execution_count": 73,
      "outputs": [
        {
          "output_type": "stream",
          "text": [
            "Index(['d1_glucose_max', 'bmi_category', 'age', 'd1_glucose_min', 'weight',\n",
            "       'd1_creatinine_max', 'glucose_apache', 'd1_bun_min', 'gcs_motor_apache',\n",
            "       'apache_3j_diagnosis', 'd1_calcium_min', 'd1_lactate_max',\n",
            "       'd1_hemaglobin_max', 'heart_rate_apache', 'arf_apache',\n",
            "       'd1_creatinine_min', 'd1_platelets_min', 'ventilated_apache',\n",
            "       'apache_2_diagnosis', 'd1_wbc_max', 'd1_hematocrit_max',\n",
            "       'd1_heartrate_max', 'creatinine_apache', 'pre_icu_los_days',\n",
            "       'd1_sysbp_min', 'd1_hco3_max', 'd1_platelets_max',\n",
            "       'd1_pao2fio2ratio_max', 'gcs_eyes_apache', 'd1_arterial_po2_max',\n",
            "       'd1_sysbp_noninvasive_max', 'd1_sysbp_invasive_min', 'h1_glucose_max',\n",
            "       'd1_arterial_pco2_max', 'height', 'map_apache', 'h1_temp_max',\n",
            "       'h1_glucose_min', 'd1_sodium_max', 'd1_potassium_min',\n",
            "       'd1_heartrate_min', 'h1_hematocrit_min', 'd1_resprate_max',\n",
            "       'd1_bun_max', 'wbc_apache', 'd1_temp_min', 'h1_diasbp_min',\n",
            "       'd1_mbp_invasive_max', 'd1_diasbp_invasive_max',\n",
            "       'd1_diasbp_noninvasive_max'],\n",
            "      dtype='object')\n"
          ],
          "name": "stdout"
        }
      ]
    },
    {
      "cell_type": "markdown",
      "metadata": {
        "id": "l77D2zGRP7FT"
      },
      "source": [
        "Our strategy:\r\n",
        "\r\n",
        "If important feature from expert's point of view is in top 10 important feature identified by either algorithms above, we will consider it in our model."
      ]
    },
    {
      "cell_type": "code",
      "metadata": {
        "colab": {
          "base_uri": "https://localhost:8080/"
        },
        "id": "_GFB5CfDXsTr",
        "outputId": "723ccb64-a765-4f00-fd9d-5171dfe628d2"
      },
      "source": [
        "top_10_rfc = list(fea_rf.iloc[:20, 1])\r\n",
        "print(top_10_rfc)\r\n",
        "top_10_ls = list(fea_lasso.iloc[:20,1])\r\n",
        "print(top_10_ls)\r\n",
        "top_10_extratree = list(fea_extraregress[:20])\r\n",
        "print(top_10_extratree)"
      ],
      "execution_count": 80,
      "outputs": [
        {
          "output_type": "stream",
          "text": [
            "['d1_glucose_max', 'glucose_apache', 'h1_glucose_max', 'h1_glucose_min', 'd1_glucose_min', 'weight', 'age', 'bmi_category', 'd1_creatinine_min', 'd1_bun_min', 'd1_creatinine_max', 'creatinine_apache', 'd1_bun_max', 'bun_apache', 'pre_icu_los_days', 'apache_3j_diagnosis', 'heart_rate_apache', 'd1_wbc_max', 'd1_heartrate_max', 'd1_hematocrit_max']\n",
            "['d1_creatinine_min', 'd1_hematocrit_max', 'weight', 'd1_resprate_min', 'gcs_verbal_apache', 'd1_glucose_max', 'd1_wbc_max', 'age', 'h1_spo2_max', 'height', 'd1_sodium_min', 'd1_sodium_max', 'gcs_motor_apache', 'pre_icu_los_days', 'd1_bun_min', 'd1_diasbp_invasive_min', 'd1_heartrate_min', 'd1_heartrate_max', 'h1_diasbp_min', 'd1_diasbp_noninvasive_min']\n",
            "['d1_glucose_max', 'bmi_category', 'age', 'd1_glucose_min', 'weight', 'd1_creatinine_max', 'glucose_apache', 'd1_bun_min', 'gcs_motor_apache', 'apache_3j_diagnosis', 'd1_calcium_min', 'd1_lactate_max', 'd1_hemaglobin_max', 'heart_rate_apache', 'arf_apache', 'd1_creatinine_min', 'd1_platelets_min', 'ventilated_apache', 'apache_2_diagnosis', 'd1_wbc_max']\n"
          ],
          "name": "stdout"
        }
      ]
    },
    {
      "cell_type": "code",
      "metadata": {
        "colab": {
          "base_uri": "https://localhost:8080/"
        },
        "id": "_110DjQHYyHe",
        "outputId": "79df8161-0622-4120-dc79-e430b418188f"
      },
      "source": [
        "# combine all feature set\r\n",
        "all_feat_2 = np.concatenate((top_10_rfc, top_10_ls), axis = 0)\r\n",
        "all_feat_3 = np.concatenate((all_feat_2, top_10_extratree), axis = 0)\r\n",
        "fet_ds = np.unique(all_feat_3, return_index=False)\r\n",
        "print(fet_ds)"
      ],
      "execution_count": 81,
      "outputs": [
        {
          "output_type": "stream",
          "text": [
            "['age' 'apache_2_diagnosis' 'apache_3j_diagnosis' 'arf_apache'\n",
            " 'bmi_category' 'bun_apache' 'creatinine_apache' 'd1_bun_max' 'd1_bun_min'\n",
            " 'd1_calcium_min' 'd1_creatinine_max' 'd1_creatinine_min'\n",
            " 'd1_diasbp_invasive_min' 'd1_diasbp_noninvasive_min' 'd1_glucose_max'\n",
            " 'd1_glucose_min' 'd1_heartrate_max' 'd1_heartrate_min'\n",
            " 'd1_hemaglobin_max' 'd1_hematocrit_max' 'd1_lactate_max'\n",
            " 'd1_platelets_min' 'd1_resprate_min' 'd1_sodium_max' 'd1_sodium_min'\n",
            " 'd1_wbc_max' 'gcs_motor_apache' 'gcs_verbal_apache' 'glucose_apache'\n",
            " 'h1_diasbp_min' 'h1_glucose_max' 'h1_glucose_min' 'h1_spo2_max'\n",
            " 'heart_rate_apache' 'height' 'pre_icu_los_days' 'ventilated_apache'\n",
            " 'weight']\n"
          ],
          "name": "stdout"
        }
      ]
    },
    {
      "cell_type": "code",
      "metadata": {
        "id": "iHpRrtRGcz99"
      },
      "source": [
        "def showSameDiff(arr1, arr2):\r\n",
        "  same = []\r\n",
        "  diff1 = []\r\n",
        "  diff2 = []\r\n",
        "  for item in arr1:\r\n",
        "    if item in arr2:\r\n",
        "      same.append(item)\r\n",
        "    else: diff1.append(item)\r\n",
        "  for item in arr2:\r\n",
        "    if item not in same:\r\n",
        "      diff2.append(item)\r\n",
        "  return same"
      ],
      "execution_count": 82,
      "outputs": []
    },
    {
      "cell_type": "code",
      "metadata": {
        "colab": {
          "base_uri": "https://localhost:8080/"
        },
        "id": "LYwUR0w2c-qu",
        "outputId": "1fb7f13e-e963-4be2-dca4-ddafaafe9d54"
      },
      "source": [
        "# Feature selection by experts\r\n",
        "feat_expert = list(dictionary['feature'])\r\n",
        "final_fea = showSameDiff(feat_expert, fet_ds)\r\n",
        "final_fea.append('bmi_category')\r\n",
        "final_fea.remove('height')\r\n",
        "final_fea.remove('weight')\r\n",
        "final_fea"
      ],
      "execution_count": 99,
      "outputs": [
        {
          "output_type": "execute_result",
          "data": {
            "text/plain": [
              "['glucose_apache',\n",
              " 'h1_glucose_max',\n",
              " 'h1_glucose_min',\n",
              " 'd1_glucose_max',\n",
              " 'd1_glucose_min',\n",
              " 'd1_diasbp_invasive_min',\n",
              " 'd1_diasbp_noninvasive_min',\n",
              " 'heart_rate_apache',\n",
              " 'd1_heartrate_max',\n",
              " 'd1_heartrate_min',\n",
              " 'h1_diasbp_min',\n",
              " 'd1_lactate_max',\n",
              " 'bmi_category']"
            ]
          },
          "metadata": {
            "tags": []
          },
          "execution_count": 99
        }
      ]
    },
    {
      "cell_type": "code",
      "metadata": {
        "colab": {
          "base_uri": "https://localhost:8080/"
        },
        "id": "PhciSqNHerlE",
        "outputId": "e048e942-ced8-42e3-b9c9-7cb16cc46fc3"
      },
      "source": [
        "final_fea.append('label')\r\n",
        "final_fea"
      ],
      "execution_count": 100,
      "outputs": [
        {
          "output_type": "execute_result",
          "data": {
            "text/plain": [
              "['glucose_apache',\n",
              " 'h1_glucose_max',\n",
              " 'h1_glucose_min',\n",
              " 'd1_glucose_max',\n",
              " 'd1_glucose_min',\n",
              " 'd1_diasbp_invasive_min',\n",
              " 'd1_diasbp_noninvasive_min',\n",
              " 'heart_rate_apache',\n",
              " 'd1_heartrate_max',\n",
              " 'd1_heartrate_min',\n",
              " 'h1_diasbp_min',\n",
              " 'd1_lactate_max',\n",
              " 'bmi_category',\n",
              " 'label']"
            ]
          },
          "metadata": {
            "tags": []
          },
          "execution_count": 100
        }
      ]
    },
    {
      "cell_type": "code",
      "metadata": {
        "colab": {
          "base_uri": "https://localhost:8080/",
          "height": 508
        },
        "id": "xlRF1XsKfV7Q",
        "outputId": "90c4789b-828b-43cd-9574-1d0523b48cd3"
      },
      "source": [
        "df_selected = df[final_fea]\r\n",
        "df_selected.corr()"
      ],
      "execution_count": 101,
      "outputs": [
        {
          "output_type": "execute_result",
          "data": {
            "text/html": [
              "<div>\n",
              "<style scoped>\n",
              "    .dataframe tbody tr th:only-of-type {\n",
              "        vertical-align: middle;\n",
              "    }\n",
              "\n",
              "    .dataframe tbody tr th {\n",
              "        vertical-align: top;\n",
              "    }\n",
              "\n",
              "    .dataframe thead th {\n",
              "        text-align: right;\n",
              "    }\n",
              "</style>\n",
              "<table border=\"1\" class=\"dataframe\">\n",
              "  <thead>\n",
              "    <tr style=\"text-align: right;\">\n",
              "      <th></th>\n",
              "      <th>glucose_apache</th>\n",
              "      <th>h1_glucose_max</th>\n",
              "      <th>h1_glucose_min</th>\n",
              "      <th>d1_glucose_max</th>\n",
              "      <th>d1_glucose_min</th>\n",
              "      <th>d1_diasbp_invasive_min</th>\n",
              "      <th>d1_diasbp_noninvasive_min</th>\n",
              "      <th>heart_rate_apache</th>\n",
              "      <th>d1_heartrate_max</th>\n",
              "      <th>d1_heartrate_min</th>\n",
              "      <th>h1_diasbp_min</th>\n",
              "      <th>d1_lactate_max</th>\n",
              "      <th>bmi_category</th>\n",
              "      <th>label</th>\n",
              "    </tr>\n",
              "  </thead>\n",
              "  <tbody>\n",
              "    <tr>\n",
              "      <th>glucose_apache</th>\n",
              "      <td>1.000000</td>\n",
              "      <td>0.635587</td>\n",
              "      <td>0.627793</td>\n",
              "      <td>0.907008</td>\n",
              "      <td>0.461861</td>\n",
              "      <td>-0.019141</td>\n",
              "      <td>-0.025523</td>\n",
              "      <td>0.098187</td>\n",
              "      <td>0.094909</td>\n",
              "      <td>0.080959</td>\n",
              "      <td>-0.014339</td>\n",
              "      <td>0.110790</td>\n",
              "      <td>0.092317</td>\n",
              "      <td>0.344410</td>\n",
              "    </tr>\n",
              "    <tr>\n",
              "      <th>h1_glucose_max</th>\n",
              "      <td>0.635587</td>\n",
              "      <td>1.000000</td>\n",
              "      <td>0.963194</td>\n",
              "      <td>0.650776</td>\n",
              "      <td>0.242588</td>\n",
              "      <td>0.007580</td>\n",
              "      <td>-0.004295</td>\n",
              "      <td>0.069945</td>\n",
              "      <td>0.070307</td>\n",
              "      <td>0.065992</td>\n",
              "      <td>0.013476</td>\n",
              "      <td>0.069269</td>\n",
              "      <td>0.041663</td>\n",
              "      <td>0.227925</td>\n",
              "    </tr>\n",
              "    <tr>\n",
              "      <th>h1_glucose_min</th>\n",
              "      <td>0.627793</td>\n",
              "      <td>0.963194</td>\n",
              "      <td>1.000000</td>\n",
              "      <td>0.624012</td>\n",
              "      <td>0.278789</td>\n",
              "      <td>0.017831</td>\n",
              "      <td>0.000092</td>\n",
              "      <td>0.068228</td>\n",
              "      <td>0.068747</td>\n",
              "      <td>0.065748</td>\n",
              "      <td>0.021383</td>\n",
              "      <td>0.051224</td>\n",
              "      <td>0.046356</td>\n",
              "      <td>0.218919</td>\n",
              "    </tr>\n",
              "    <tr>\n",
              "      <th>d1_glucose_max</th>\n",
              "      <td>0.907008</td>\n",
              "      <td>0.650776</td>\n",
              "      <td>0.624012</td>\n",
              "      <td>1.000000</td>\n",
              "      <td>0.382449</td>\n",
              "      <td>-0.040517</td>\n",
              "      <td>-0.048898</td>\n",
              "      <td>0.103162</td>\n",
              "      <td>0.106434</td>\n",
              "      <td>0.089948</td>\n",
              "      <td>-0.039224</td>\n",
              "      <td>0.134608</td>\n",
              "      <td>0.091438</td>\n",
              "      <td>0.395412</td>\n",
              "    </tr>\n",
              "    <tr>\n",
              "      <th>d1_glucose_min</th>\n",
              "      <td>0.461861</td>\n",
              "      <td>0.242588</td>\n",
              "      <td>0.278789</td>\n",
              "      <td>0.382449</td>\n",
              "      <td>1.000000</td>\n",
              "      <td>0.036297</td>\n",
              "      <td>0.026340</td>\n",
              "      <td>0.057232</td>\n",
              "      <td>0.053035</td>\n",
              "      <td>0.049579</td>\n",
              "      <td>0.028991</td>\n",
              "      <td>-0.000826</td>\n",
              "      <td>0.123838</td>\n",
              "      <td>0.133580</td>\n",
              "    </tr>\n",
              "    <tr>\n",
              "      <th>d1_diasbp_invasive_min</th>\n",
              "      <td>-0.019141</td>\n",
              "      <td>0.007580</td>\n",
              "      <td>0.017831</td>\n",
              "      <td>-0.040517</td>\n",
              "      <td>0.036297</td>\n",
              "      <td>1.000000</td>\n",
              "      <td>0.253817</td>\n",
              "      <td>0.003280</td>\n",
              "      <td>-0.033159</td>\n",
              "      <td>0.075290</td>\n",
              "      <td>0.245259</td>\n",
              "      <td>-0.105059</td>\n",
              "      <td>0.034628</td>\n",
              "      <td>-0.038299</td>\n",
              "    </tr>\n",
              "    <tr>\n",
              "      <th>d1_diasbp_noninvasive_min</th>\n",
              "      <td>-0.025523</td>\n",
              "      <td>-0.004295</td>\n",
              "      <td>0.000092</td>\n",
              "      <td>-0.048898</td>\n",
              "      <td>0.026340</td>\n",
              "      <td>0.253817</td>\n",
              "      <td>1.000000</td>\n",
              "      <td>0.003320</td>\n",
              "      <td>-0.088462</td>\n",
              "      <td>0.131306</td>\n",
              "      <td>0.599088</td>\n",
              "      <td>-0.102275</td>\n",
              "      <td>0.019582</td>\n",
              "      <td>-0.048321</td>\n",
              "    </tr>\n",
              "    <tr>\n",
              "      <th>heart_rate_apache</th>\n",
              "      <td>0.098187</td>\n",
              "      <td>0.069945</td>\n",
              "      <td>0.068228</td>\n",
              "      <td>0.103162</td>\n",
              "      <td>0.057232</td>\n",
              "      <td>0.003280</td>\n",
              "      <td>0.003320</td>\n",
              "      <td>1.000000</td>\n",
              "      <td>0.809193</td>\n",
              "      <td>0.570212</td>\n",
              "      <td>0.049489</td>\n",
              "      <td>0.072384</td>\n",
              "      <td>-0.042677</td>\n",
              "      <td>-0.017146</td>\n",
              "    </tr>\n",
              "    <tr>\n",
              "      <th>d1_heartrate_max</th>\n",
              "      <td>0.094909</td>\n",
              "      <td>0.070307</td>\n",
              "      <td>0.068747</td>\n",
              "      <td>0.106434</td>\n",
              "      <td>0.053035</td>\n",
              "      <td>-0.033159</td>\n",
              "      <td>-0.088462</td>\n",
              "      <td>0.809193</td>\n",
              "      <td>1.000000</td>\n",
              "      <td>0.474266</td>\n",
              "      <td>0.000205</td>\n",
              "      <td>0.104208</td>\n",
              "      <td>-0.049876</td>\n",
              "      <td>-0.024822</td>\n",
              "    </tr>\n",
              "    <tr>\n",
              "      <th>d1_heartrate_min</th>\n",
              "      <td>0.080959</td>\n",
              "      <td>0.065992</td>\n",
              "      <td>0.065748</td>\n",
              "      <td>0.089948</td>\n",
              "      <td>0.049579</td>\n",
              "      <td>0.075290</td>\n",
              "      <td>0.131306</td>\n",
              "      <td>0.570212</td>\n",
              "      <td>0.474266</td>\n",
              "      <td>1.000000</td>\n",
              "      <td>0.073082</td>\n",
              "      <td>-0.025068</td>\n",
              "      <td>-0.000427</td>\n",
              "      <td>0.017786</td>\n",
              "    </tr>\n",
              "    <tr>\n",
              "      <th>h1_diasbp_min</th>\n",
              "      <td>-0.014339</td>\n",
              "      <td>0.013476</td>\n",
              "      <td>0.021383</td>\n",
              "      <td>-0.039224</td>\n",
              "      <td>0.028991</td>\n",
              "      <td>0.245259</td>\n",
              "      <td>0.599088</td>\n",
              "      <td>0.049489</td>\n",
              "      <td>0.000205</td>\n",
              "      <td>0.073082</td>\n",
              "      <td>1.000000</td>\n",
              "      <td>-0.073655</td>\n",
              "      <td>0.024115</td>\n",
              "      <td>-0.059162</td>\n",
              "    </tr>\n",
              "    <tr>\n",
              "      <th>d1_lactate_max</th>\n",
              "      <td>0.110790</td>\n",
              "      <td>0.069269</td>\n",
              "      <td>0.051224</td>\n",
              "      <td>0.134608</td>\n",
              "      <td>-0.000826</td>\n",
              "      <td>-0.105059</td>\n",
              "      <td>-0.102275</td>\n",
              "      <td>0.072384</td>\n",
              "      <td>0.104208</td>\n",
              "      <td>-0.025068</td>\n",
              "      <td>-0.073655</td>\n",
              "      <td>1.000000</td>\n",
              "      <td>-0.000790</td>\n",
              "      <td>0.000530</td>\n",
              "    </tr>\n",
              "    <tr>\n",
              "      <th>bmi_category</th>\n",
              "      <td>0.092317</td>\n",
              "      <td>0.041663</td>\n",
              "      <td>0.046356</td>\n",
              "      <td>0.091438</td>\n",
              "      <td>0.123838</td>\n",
              "      <td>0.034628</td>\n",
              "      <td>0.019582</td>\n",
              "      <td>-0.042677</td>\n",
              "      <td>-0.049876</td>\n",
              "      <td>-0.000427</td>\n",
              "      <td>0.024115</td>\n",
              "      <td>-0.000790</td>\n",
              "      <td>1.000000</td>\n",
              "      <td>0.156749</td>\n",
              "    </tr>\n",
              "    <tr>\n",
              "      <th>label</th>\n",
              "      <td>0.344410</td>\n",
              "      <td>0.227925</td>\n",
              "      <td>0.218919</td>\n",
              "      <td>0.395412</td>\n",
              "      <td>0.133580</td>\n",
              "      <td>-0.038299</td>\n",
              "      <td>-0.048321</td>\n",
              "      <td>-0.017146</td>\n",
              "      <td>-0.024822</td>\n",
              "      <td>0.017786</td>\n",
              "      <td>-0.059162</td>\n",
              "      <td>0.000530</td>\n",
              "      <td>0.156749</td>\n",
              "      <td>1.000000</td>\n",
              "    </tr>\n",
              "  </tbody>\n",
              "</table>\n",
              "</div>"
            ],
            "text/plain": [
              "                           glucose_apache  ...     label\n",
              "glucose_apache                   1.000000  ...  0.344410\n",
              "h1_glucose_max                   0.635587  ...  0.227925\n",
              "h1_glucose_min                   0.627793  ...  0.218919\n",
              "d1_glucose_max                   0.907008  ...  0.395412\n",
              "d1_glucose_min                   0.461861  ...  0.133580\n",
              "d1_diasbp_invasive_min          -0.019141  ... -0.038299\n",
              "d1_diasbp_noninvasive_min       -0.025523  ... -0.048321\n",
              "heart_rate_apache                0.098187  ... -0.017146\n",
              "d1_heartrate_max                 0.094909  ... -0.024822\n",
              "d1_heartrate_min                 0.080959  ...  0.017786\n",
              "h1_diasbp_min                   -0.014339  ... -0.059162\n",
              "d1_lactate_max                   0.110790  ...  0.000530\n",
              "bmi_category                     0.092317  ...  0.156749\n",
              "label                            0.344410  ...  1.000000\n",
              "\n",
              "[14 rows x 14 columns]"
            ]
          },
          "metadata": {
            "tags": []
          },
          "execution_count": 101
        }
      ]
    },
    {
      "cell_type": "markdown",
      "metadata": {
        "id": "Ki90CVBwfram"
      },
      "source": [
        "After carefull consideration, we choose the features that have large correlation with \"label\", but not having high correlation with other"
      ]
    },
    {
      "cell_type": "code",
      "metadata": {
        "id": "LePLgMJFgEnw"
      },
      "source": [
        "top = ['d1_glucose_max', 'h1_glucose_max', 'bmi_category', 'd1_glucose_min', 'age', \r\n",
        "        'd1_diasbp_invasive_min','d1_diasbp_noninvasive_min','heart_rate_apache',\r\n",
        "        'd1_heartrate_max','h1_diasbp_min','d1_lactate_max']\r\n",
        "\r\n",
        "X_selected = X[top]"
      ],
      "execution_count": 102,
      "outputs": []
    },
    {
      "cell_type": "code",
      "metadata": {
        "colab": {
          "base_uri": "https://localhost:8080/"
        },
        "id": "8Cpc6Xpx0kEo",
        "outputId": "58f1c6f5-cb88-42d7-ed91-b06c2c75c44f"
      },
      "source": [
        "skf = StratifiedKFold(n_splits=4, shuffle=True, random_state=100) \r\n",
        "rf = RandomForestClassifier(n_estimators = 400, max_features = 8, min_samples_split = 20, min_samples_leaf = 10)\r\n",
        "xgb = XGBClassifier(max_depth=8, n_estimators=20,  objective='multi:softprob', learning_rate=0.3, num_class=2)\r\n",
        "svc = svm.SVC(probability=True)\r\n",
        "\r\n",
        "round = 0\r\n",
        "for train_index, test_index in skf.split(X_selected,y): \r\n",
        "    X_train, X_test = X.iloc[train_index, :], X.iloc[test_index,:] \r\n",
        "    y_train, y_test = y.iloc[train_index], y.iloc[test_index]\r\n",
        "    over = RandomOverSampler(sampling_strategy=0.4)\r\n",
        "    X_over, y_over = over.fit_resample(X_train, y_train)\r\n",
        "    under = RandomUnderSampler(sampling_strategy=0.6)\r\n",
        "    X_under, y_under = under.fit_resample(X_over, y_over)\r\n",
        "    X_under = pd.DataFrame(X_under)\r\n",
        "    X_under.columns = X_train.columns \r\n",
        "    \r\n",
        "    models = list()\r\n",
        "    # create a pipeline\r\n",
        "    models.append(('rf', rf))\r\n",
        "    models.append(('xgb', xgb))\r\n",
        "    models.append(('svc', svc))\r\n",
        "\r\n",
        "    model = VotingClassifier(estimators=models, voting='soft', weights=[3,4,3])\r\n",
        "    \r\n",
        "    model.fit(X_under.values, y_under)\r\n",
        "\r\n",
        "    round +=1\r\n",
        "\r\n",
        "    print(f\"FOLD = {round}\")\r\n",
        "    print(accuracy_score(y_under, model.predict(X_under.values)))\r\n",
        "    print(accuracy_score(y_test, model.predict(X_test.values)))\r\n",
        "\r\n",
        "    print(classification_report(y_under, model.predict(X_under.values)))\r\n",
        "    print(classification_report(y_test, model.predict(X_test.values)))"
      ],
      "execution_count": null,
      "outputs": [
        {
          "output_type": "stream",
          "text": [
            "/usr/local/lib/python3.7/dist-packages/sklearn/utils/deprecation.py:87: FutureWarning: Function safe_indexing is deprecated; safe_indexing is deprecated in version 0.22 and will be removed in version 0.24.\n",
            "  warnings.warn(msg, category=FutureWarning)\n",
            "/usr/local/lib/python3.7/dist-packages/sklearn/utils/deprecation.py:87: FutureWarning: Function safe_indexing is deprecated; safe_indexing is deprecated in version 0.22 and will be removed in version 0.24.\n",
            "  warnings.warn(msg, category=FutureWarning)\n"
          ],
          "name": "stderr"
        }
      ]
    }
  ]
}