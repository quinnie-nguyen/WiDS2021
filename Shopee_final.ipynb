{
  "nbformat": 4,
  "nbformat_minor": 0,
  "metadata": {
    "colab": {
      "name": "Shopee_final.ipynb",
      "provenance": [],
      "authorship_tag": "ABX9TyMzAmugcR4RsgMnqt4K9HTW",
      "include_colab_link": true
    },
    "kernelspec": {
      "name": "python3",
      "display_name": "Python 3"
    },
    "language_info": {
      "name": "python"
    }
  },
  "cells": [
    {
      "cell_type": "markdown",
      "metadata": {
        "id": "view-in-github",
        "colab_type": "text"
      },
      "source": [
        "<a href=\"https://colab.research.google.com/github/quinnie-nguyen/WiDS2021/blob/main/Shopee_final.ipynb\" target=\"_parent\"><img src=\"https://colab.research.google.com/assets/colab-badge.svg\" alt=\"Open In Colab\"/></a>"
      ]
    },
    {
      "cell_type": "markdown",
      "metadata": {
        "id": "rl7BtxKXt2b9"
      },
      "source": [
        "# Introduction\n",
        "\n",
        "Assuming that a customer can use multiple email addresses and phone numbers to contact customer service regarding there orders (several order ID).\n",
        "\n",
        "Main Task:\n",
        "\n",
        "\n",
        "\n",
        "*   Identify the number of unique customers in data set\n",
        "*   Investigate which tickets belong to a customer\n",
        "\n"
      ]
    },
    {
      "cell_type": "code",
      "metadata": {
        "colab": {
          "base_uri": "https://localhost:8080/"
        },
        "id": "e4EHCotxBc_o",
        "outputId": "055b7c25-3268-4002-cc3b-745010124517"
      },
      "source": [
        "from google.colab import drive\n",
        "drive.mount('/content/gdrive')"
      ],
      "execution_count": 2,
      "outputs": [
        {
          "output_type": "stream",
          "text": [
            "Mounted at /content/gdrive\n"
          ],
          "name": "stdout"
        }
      ]
    },
    {
      "cell_type": "code",
      "metadata": {
        "id": "7iF2576VBhwO"
      },
      "source": [
        "# import libraries\n",
        "import numpy as np\n",
        "import pandas as pd\n",
        "import json"
      ],
      "execution_count": 3,
      "outputs": []
    },
    {
      "cell_type": "code",
      "metadata": {
        "colab": {
          "base_uri": "https://localhost:8080/",
          "height": 206
        },
        "id": "1DAdC8NfBjs1",
        "outputId": "8edd027f-f40a-4c0e-9e36-f6d6c5855960"
      },
      "source": [
        "# load data\n",
        "df = open('/content/gdrive/My Drive/Shopee/contacts.json')\n",
        "data = json.load(df)\n",
        "df = pd.DataFrame.from_dict(data)\n",
        "df.tail()"
      ],
      "execution_count": 4,
      "outputs": [
        {
          "output_type": "execute_result",
          "data": {
            "text/html": [
              "<div>\n",
              "<style scoped>\n",
              "    .dataframe tbody tr th:only-of-type {\n",
              "        vertical-align: middle;\n",
              "    }\n",
              "\n",
              "    .dataframe tbody tr th {\n",
              "        vertical-align: top;\n",
              "    }\n",
              "\n",
              "    .dataframe thead th {\n",
              "        text-align: right;\n",
              "    }\n",
              "</style>\n",
              "<table border=\"1\" class=\"dataframe\">\n",
              "  <thead>\n",
              "    <tr style=\"text-align: right;\">\n",
              "      <th></th>\n",
              "      <th>Id</th>\n",
              "      <th>Email</th>\n",
              "      <th>Phone</th>\n",
              "      <th>Contacts</th>\n",
              "      <th>OrderId</th>\n",
              "    </tr>\n",
              "  </thead>\n",
              "  <tbody>\n",
              "    <tr>\n",
              "      <th>499995</th>\n",
              "      <td>499995</td>\n",
              "      <td></td>\n",
              "      <td>10072395382</td>\n",
              "      <td>2</td>\n",
              "      <td>whJlUOGNqjxCRzmIRdURQvlNv</td>\n",
              "    </tr>\n",
              "    <tr>\n",
              "      <th>499996</th>\n",
              "      <td>499996</td>\n",
              "      <td></td>\n",
              "      <td>571709661031</td>\n",
              "      <td>4</td>\n",
              "      <td>JqIXOONvrwvJxZqNxCYHqnrKS</td>\n",
              "    </tr>\n",
              "    <tr>\n",
              "      <th>499997</th>\n",
              "      <td>499997</td>\n",
              "      <td></td>\n",
              "      <td>4541459979</td>\n",
              "      <td>2</td>\n",
              "      <td>beXCZSzcHaBwAYoDcpQqjuAFO</td>\n",
              "    </tr>\n",
              "    <tr>\n",
              "      <th>499998</th>\n",
              "      <td>499998</td>\n",
              "      <td>RzSDsyH@hotmail.com</td>\n",
              "      <td>98947185431</td>\n",
              "      <td>1</td>\n",
              "      <td>ehjeFACGiwrERQxbziMxwOWku</td>\n",
              "    </tr>\n",
              "    <tr>\n",
              "      <th>499999</th>\n",
              "      <td>499999</td>\n",
              "      <td></td>\n",
              "      <td>880053388839</td>\n",
              "      <td>0</td>\n",
              "      <td>JibSBRgzYdfzkzbTuGUXrcvDX</td>\n",
              "    </tr>\n",
              "  </tbody>\n",
              "</table>\n",
              "</div>"
            ],
            "text/plain": [
              "            Id                Email  ... Contacts                    OrderId\n",
              "499995  499995                       ...        2  whJlUOGNqjxCRzmIRdURQvlNv\n",
              "499996  499996                       ...        4  JqIXOONvrwvJxZqNxCYHqnrKS\n",
              "499997  499997                       ...        2  beXCZSzcHaBwAYoDcpQqjuAFO\n",
              "499998  499998  RzSDsyH@hotmail.com  ...        1  ehjeFACGiwrERQxbziMxwOWku\n",
              "499999  499999                       ...        0  JibSBRgzYdfzkzbTuGUXrcvDX\n",
              "\n",
              "[5 rows x 5 columns]"
            ]
          },
          "metadata": {
            "tags": []
          },
          "execution_count": 4
        }
      ]
    },
    {
      "cell_type": "code",
      "metadata": {
        "id": "4dazRb5NC9Ps"
      },
      "source": [
        "group = pd.DataFrame(df.groupby(['Email','Phone','OrderId', 'Id'])['Contacts'].sum())\n",
        "group.reset_index(inplace = True)\n",
        "group = group.sort_values(by = 'Id', ascending= True)"
      ],
      "execution_count": 5,
      "outputs": []
    },
    {
      "cell_type": "code",
      "metadata": {
        "colab": {
          "base_uri": "https://localhost:8080/",
          "height": 206
        },
        "id": "eqXettpnzC79",
        "outputId": "521e6199-8cf3-4c78-ce1d-8dc80b0de9db"
      },
      "source": [
        "group.head()"
      ],
      "execution_count": 6,
      "outputs": [
        {
          "output_type": "execute_result",
          "data": {
            "text/html": [
              "<div>\n",
              "<style scoped>\n",
              "    .dataframe tbody tr th:only-of-type {\n",
              "        vertical-align: middle;\n",
              "    }\n",
              "\n",
              "    .dataframe tbody tr th {\n",
              "        vertical-align: top;\n",
              "    }\n",
              "\n",
              "    .dataframe thead th {\n",
              "        text-align: right;\n",
              "    }\n",
              "</style>\n",
              "<table border=\"1\" class=\"dataframe\">\n",
              "  <thead>\n",
              "    <tr style=\"text-align: right;\">\n",
              "      <th></th>\n",
              "      <th>Email</th>\n",
              "      <th>Phone</th>\n",
              "      <th>OrderId</th>\n",
              "      <th>Id</th>\n",
              "      <th>Contacts</th>\n",
              "    </tr>\n",
              "  </thead>\n",
              "  <tbody>\n",
              "    <tr>\n",
              "      <th>370522</th>\n",
              "      <td>gkzAbIy@qq.com</td>\n",
              "      <td></td>\n",
              "      <td></td>\n",
              "      <td>0</td>\n",
              "      <td>1</td>\n",
              "    </tr>\n",
              "    <tr>\n",
              "      <th>50247</th>\n",
              "      <td></td>\n",
              "      <td>329442681752</td>\n",
              "      <td>vDDJJcxfLtSfkooPhbYnJdxov</td>\n",
              "      <td>1</td>\n",
              "      <td>4</td>\n",
              "    </tr>\n",
              "    <tr>\n",
              "      <th>138162</th>\n",
              "      <td></td>\n",
              "      <td>9125983679</td>\n",
              "      <td></td>\n",
              "      <td>2</td>\n",
              "      <td>0</td>\n",
              "    </tr>\n",
              "    <tr>\n",
              "      <th>410085</th>\n",
              "      <td>mdllpYmE@gmail.com</td>\n",
              "      <td></td>\n",
              "      <td>bHquEnCbbsGLqllwryxPsNOxa</td>\n",
              "      <td>3</td>\n",
              "      <td>0</td>\n",
              "    </tr>\n",
              "    <tr>\n",
              "      <th>45812</th>\n",
              "      <td></td>\n",
              "      <td>300364407</td>\n",
              "      <td></td>\n",
              "      <td>4</td>\n",
              "      <td>2</td>\n",
              "    </tr>\n",
              "  </tbody>\n",
              "</table>\n",
              "</div>"
            ],
            "text/plain": [
              "                     Email         Phone  ... Id  Contacts\n",
              "370522      gkzAbIy@qq.com                ...  0         1\n",
              "50247                       329442681752  ...  1         4\n",
              "138162                        9125983679  ...  2         0\n",
              "410085  mdllpYmE@gmail.com                ...  3         0\n",
              "45812                          300364407  ...  4         2\n",
              "\n",
              "[5 rows x 5 columns]"
            ]
          },
          "metadata": {
            "tags": []
          },
          "execution_count": 6
        }
      ]
    },
    {
      "cell_type": "markdown",
      "metadata": {
        "id": "X_TOUOaaBqfU"
      },
      "source": [
        "# Emails"
      ]
    },
    {
      "cell_type": "code",
      "metadata": {
        "colab": {
          "base_uri": "https://localhost:8080/"
        },
        "id": "ZdKpJSQRBjvC",
        "outputId": "498a54f3-99ba-4166-c8fb-6c8127cb3beb"
      },
      "source": [
        "# remove rows that email is null\n",
        "group_Email=group[~group[\"Email\"].eq('')]\n",
        "group_Email.shape"
      ],
      "execution_count": null,
      "outputs": [
        {
          "output_type": "execute_result",
          "data": {
            "text/plain": [
              "(348606, 5)"
            ]
          },
          "metadata": {
            "tags": []
          },
          "execution_count": 13
        }
      ]
    },
    {
      "cell_type": "code",
      "metadata": {
        "colab": {
          "base_uri": "https://localhost:8080/"
        },
        "id": "icCap7coBjxu",
        "outputId": "ea873cca-463b-43e0-e670-dbcbd252a092"
      },
      "source": [
        "# group by Email, join the ID by '-'\n",
        "group_Email['by_email'] = group_Email[['Email','Id']].groupby(['Email'])['Id'].transform(lambda x: '-'.join(map(str, x)))"
      ],
      "execution_count": null,
      "outputs": [
        {
          "output_type": "stream",
          "text": [
            "/usr/local/lib/python3.7/dist-packages/ipykernel_launcher.py:1: SettingWithCopyWarning: \n",
            "A value is trying to be set on a copy of a slice from a DataFrame.\n",
            "Try using .loc[row_indexer,col_indexer] = value instead\n",
            "\n",
            "See the caveats in the documentation: https://pandas.pydata.org/pandas-docs/stable/user_guide/indexing.html#returning-a-view-versus-a-copy\n",
            "  \"\"\"Entry point for launching an IPython kernel.\n"
          ],
          "name": "stderr"
        }
      ]
    },
    {
      "cell_type": "code",
      "metadata": {
        "id": "k8FLJ72kBj0r"
      },
      "source": [
        "group_Email=group_Email[['Id','by_email']]"
      ],
      "execution_count": null,
      "outputs": []
    },
    {
      "cell_type": "markdown",
      "metadata": {
        "id": "kD9a7HysB3Di"
      },
      "source": [
        "# Order IDs"
      ]
    },
    {
      "cell_type": "code",
      "metadata": {
        "colab": {
          "base_uri": "https://localhost:8080/"
        },
        "id": "hdyM6mqiBj3n",
        "outputId": "1d4b6929-acc4-47f7-e7bd-b344a85ab462"
      },
      "source": [
        "group_Oder=group[~group[\"OrderId\"].eq('')]\n",
        "group_Oder.shape"
      ],
      "execution_count": null,
      "outputs": [
        {
          "output_type": "execute_result",
          "data": {
            "text/plain": [
              "(243544, 5)"
            ]
          },
          "metadata": {
            "tags": []
          },
          "execution_count": 16
        }
      ]
    },
    {
      "cell_type": "code",
      "metadata": {
        "colab": {
          "base_uri": "https://localhost:8080/"
        },
        "id": "tw7MitP6Bj7I",
        "outputId": "8ea2ebef-9fd5-4a8d-f997-8af383b6456b"
      },
      "source": [
        "group_Oder['by_OrderID'] = group_Oder.groupby(['OrderId'])['Id'].transform(lambda x: '-'.join(map(str, x)))"
      ],
      "execution_count": null,
      "outputs": [
        {
          "output_type": "stream",
          "text": [
            "/usr/local/lib/python3.7/dist-packages/ipykernel_launcher.py:1: SettingWithCopyWarning: \n",
            "A value is trying to be set on a copy of a slice from a DataFrame.\n",
            "Try using .loc[row_indexer,col_indexer] = value instead\n",
            "\n",
            "See the caveats in the documentation: https://pandas.pydata.org/pandas-docs/stable/user_guide/indexing.html#returning-a-view-versus-a-copy\n",
            "  \"\"\"Entry point for launching an IPython kernel.\n"
          ],
          "name": "stderr"
        }
      ]
    },
    {
      "cell_type": "code",
      "metadata": {
        "id": "fnlBbu-1B9Da"
      },
      "source": [
        "group_Oder=group_Oder[['Id','by_OrderID']]"
      ],
      "execution_count": null,
      "outputs": []
    },
    {
      "cell_type": "markdown",
      "metadata": {
        "id": "Lo0HUhQVB_LT"
      },
      "source": [
        "# Phones"
      ]
    },
    {
      "cell_type": "code",
      "metadata": {
        "colab": {
          "base_uri": "https://localhost:8080/"
        },
        "id": "LqJri1QlB9Ar",
        "outputId": "9b5285c7-f9e9-483f-e8f1-26a5041a2684"
      },
      "source": [
        "group_Phone=group[~group[\"Phone\"].eq('')]\n",
        "group_Phone.shape"
      ],
      "execution_count": null,
      "outputs": [
        {
          "output_type": "execute_result",
          "data": {
            "text/plain": [
              "(245081, 5)"
            ]
          },
          "metadata": {
            "tags": []
          },
          "execution_count": 19
        }
      ]
    },
    {
      "cell_type": "code",
      "metadata": {
        "colab": {
          "base_uri": "https://localhost:8080/"
        },
        "id": "bMgLJkPkB8-D",
        "outputId": "dd09f4c4-13fa-44e8-cfd2-5577e9ae09e8"
      },
      "source": [
        "group_Phone['by_Phone'] = group_Phone.groupby(['Phone'])['Id'].transform(lambda x: '-'.join(map(str, x)))"
      ],
      "execution_count": null,
      "outputs": [
        {
          "output_type": "stream",
          "text": [
            "/usr/local/lib/python3.7/dist-packages/ipykernel_launcher.py:1: SettingWithCopyWarning: \n",
            "A value is trying to be set on a copy of a slice from a DataFrame.\n",
            "Try using .loc[row_indexer,col_indexer] = value instead\n",
            "\n",
            "See the caveats in the documentation: https://pandas.pydata.org/pandas-docs/stable/user_guide/indexing.html#returning-a-view-versus-a-copy\n",
            "  \"\"\"Entry point for launching an IPython kernel.\n"
          ],
          "name": "stderr"
        }
      ]
    },
    {
      "cell_type": "code",
      "metadata": {
        "id": "XIhRFbLkB870"
      },
      "source": [
        "group_Phone=group_Phone[['Id','by_Phone']]"
      ],
      "execution_count": null,
      "outputs": []
    },
    {
      "cell_type": "markdown",
      "metadata": {
        "id": "J6e0UUhaCJVL"
      },
      "source": [
        "# Concate Infos"
      ]
    },
    {
      "cell_type": "code",
      "metadata": {
        "id": "9ELiAsyKB85G"
      },
      "source": [
        "# concate the three info types\n",
        "group1=group.merge(group_Email, on='Id')\n",
        "group2=group1.merge(group_Oder, on='Id')\n",
        "group3=group2.merge(group_Phone, on='Id')"
      ],
      "execution_count": null,
      "outputs": []
    },
    {
      "cell_type": "code",
      "metadata": {
        "colab": {
          "base_uri": "https://localhost:8080/",
          "height": 363
        },
        "id": "zkrGT3eZCZRp",
        "outputId": "a3b577b3-244d-4523-800e-ea3dbdebc4a0"
      },
      "source": [
        "group3.head(10)"
      ],
      "execution_count": null,
      "outputs": [
        {
          "output_type": "execute_result",
          "data": {
            "text/html": [
              "<div>\n",
              "<style scoped>\n",
              "    .dataframe tbody tr th:only-of-type {\n",
              "        vertical-align: middle;\n",
              "    }\n",
              "\n",
              "    .dataframe tbody tr th {\n",
              "        vertical-align: top;\n",
              "    }\n",
              "\n",
              "    .dataframe thead th {\n",
              "        text-align: right;\n",
              "    }\n",
              "</style>\n",
              "<table border=\"1\" class=\"dataframe\">\n",
              "  <thead>\n",
              "    <tr style=\"text-align: right;\">\n",
              "      <th></th>\n",
              "      <th>Email</th>\n",
              "      <th>Phone</th>\n",
              "      <th>OrderId</th>\n",
              "      <th>Id</th>\n",
              "      <th>Contacts</th>\n",
              "      <th>by_email</th>\n",
              "      <th>by_OrderID</th>\n",
              "      <th>by_Phone</th>\n",
              "    </tr>\n",
              "  </thead>\n",
              "  <tbody>\n",
              "    <tr>\n",
              "      <th>0</th>\n",
              "      <td>YsKhkKGJoQSNniHcr@yahoo.com</td>\n",
              "      <td>562300766</td>\n",
              "      <td>IqewrMXVTJqSsVklWFfOpdRNI</td>\n",
              "      <td>13</td>\n",
              "      <td>1</td>\n",
              "      <td>13-417916</td>\n",
              "      <td>9-13-343161</td>\n",
              "      <td>13-16708</td>\n",
              "    </tr>\n",
              "    <tr>\n",
              "      <th>1</th>\n",
              "      <td>TNaMorNIWCJARsXlg@gmail.com</td>\n",
              "      <td>092607900110</td>\n",
              "      <td>GqpDeqZSwZTbPRrrGePkOhbSQ</td>\n",
              "      <td>17</td>\n",
              "      <td>3</td>\n",
              "      <td>17</td>\n",
              "      <td>17</td>\n",
              "      <td>15-17-21197</td>\n",
              "    </tr>\n",
              "    <tr>\n",
              "      <th>2</th>\n",
              "      <td>FoaGWGbpnlvizkIG@qq.com</td>\n",
              "      <td>87750412055</td>\n",
              "      <td>FAfkaPfbiYqJNLqonkuozigbW</td>\n",
              "      <td>22</td>\n",
              "      <td>0</td>\n",
              "      <td>22-453177</td>\n",
              "      <td>22</td>\n",
              "      <td>22-4562</td>\n",
              "    </tr>\n",
              "    <tr>\n",
              "      <th>3</th>\n",
              "      <td>MbjTCmxpcqf@yahoo.com</td>\n",
              "      <td>028044435230</td>\n",
              "      <td>nfVgFexPZGijuRCTKQOCRYKBe</td>\n",
              "      <td>28</td>\n",
              "      <td>1</td>\n",
              "      <td>28</td>\n",
              "      <td>28-1271-26068</td>\n",
              "      <td>28</td>\n",
              "    </tr>\n",
              "    <tr>\n",
              "      <th>4</th>\n",
              "      <td>VbaKKxkCzo@yahoo.com</td>\n",
              "      <td>315194406</td>\n",
              "      <td>TsBwFmhSCeauMjfoMVkhTBdYI</td>\n",
              "      <td>42</td>\n",
              "      <td>3</td>\n",
              "      <td>42-164913</td>\n",
              "      <td>42</td>\n",
              "      <td>42</td>\n",
              "    </tr>\n",
              "    <tr>\n",
              "      <th>5</th>\n",
              "      <td>TIMejlVYhfqjy@gmail.com</td>\n",
              "      <td>840113148</td>\n",
              "      <td>XBkNrwcWWslDvSQdhYPfCpQJo</td>\n",
              "      <td>50</td>\n",
              "      <td>4</td>\n",
              "      <td>50</td>\n",
              "      <td>50-226720-458692</td>\n",
              "      <td>5-50</td>\n",
              "    </tr>\n",
              "    <tr>\n",
              "      <th>6</th>\n",
              "      <td>LEQvQVjRnZGUzzii@qq.com</td>\n",
              "      <td>677071683</td>\n",
              "      <td>tNyZAarWISkKcyhLPjYOVXfrD</td>\n",
              "      <td>51</td>\n",
              "      <td>4</td>\n",
              "      <td>51</td>\n",
              "      <td>51</td>\n",
              "      <td>35-51</td>\n",
              "    </tr>\n",
              "    <tr>\n",
              "      <th>7</th>\n",
              "      <td>MqeWqLfAIPvgaelFet@hotmail.com</td>\n",
              "      <td>173754467363</td>\n",
              "      <td>yszJKOtWYrnjJoMPmXQMuZhiu</td>\n",
              "      <td>68</td>\n",
              "      <td>3</td>\n",
              "      <td>68-187301</td>\n",
              "      <td>68</td>\n",
              "      <td>68-1321-321667</td>\n",
              "    </tr>\n",
              "    <tr>\n",
              "      <th>8</th>\n",
              "      <td>KVJqkaaCFmoNXwysz@qq.com</td>\n",
              "      <td>075673879</td>\n",
              "      <td>RKKKiOTjYrrtRjRqtjzxuMnag</td>\n",
              "      <td>100</td>\n",
              "      <td>2</td>\n",
              "      <td>100</td>\n",
              "      <td>100-822-282502-306045</td>\n",
              "      <td>100-79530-220328</td>\n",
              "    </tr>\n",
              "    <tr>\n",
              "      <th>9</th>\n",
              "      <td>ckULfmuWRNSEE@gmail.com</td>\n",
              "      <td>67297509936</td>\n",
              "      <td>iqSSKRKJuXKNTKCUPwTrencOp</td>\n",
              "      <td>109</td>\n",
              "      <td>3</td>\n",
              "      <td>109</td>\n",
              "      <td>109</td>\n",
              "      <td>109-294-237280</td>\n",
              "    </tr>\n",
              "  </tbody>\n",
              "</table>\n",
              "</div>"
            ],
            "text/plain": [
              "                            Email  ...          by_Phone\n",
              "0     YsKhkKGJoQSNniHcr@yahoo.com  ...          13-16708\n",
              "1     TNaMorNIWCJARsXlg@gmail.com  ...       15-17-21197\n",
              "2         FoaGWGbpnlvizkIG@qq.com  ...           22-4562\n",
              "3           MbjTCmxpcqf@yahoo.com  ...                28\n",
              "4            VbaKKxkCzo@yahoo.com  ...                42\n",
              "5         TIMejlVYhfqjy@gmail.com  ...              5-50\n",
              "6         LEQvQVjRnZGUzzii@qq.com  ...             35-51\n",
              "7  MqeWqLfAIPvgaelFet@hotmail.com  ...    68-1321-321667\n",
              "8        KVJqkaaCFmoNXwysz@qq.com  ...  100-79530-220328\n",
              "9         ckULfmuWRNSEE@gmail.com  ...    109-294-237280\n",
              "\n",
              "[10 rows x 8 columns]"
            ]
          },
          "metadata": {
            "tags": []
          },
          "execution_count": 59
        }
      ]
    },
    {
      "cell_type": "code",
      "metadata": {
        "id": "nI-MytxhFmq4"
      },
      "source": [
        "# combine 3 ticket traces grouped by email, orderID, phone\n",
        "group3['group']=group3['by_email']+\"-\"+group3['by_OrderID']+\"-\"+group3['by_Phone']\n",
        "group3=group3[['Email','Phone','OrderId','Id','Contacts','group']]"
      ],
      "execution_count": null,
      "outputs": []
    },
    {
      "cell_type": "code",
      "metadata": {
        "colab": {
          "base_uri": "https://localhost:8080/",
          "height": 363
        },
        "id": "BWX9tN5AF3a-",
        "outputId": "ebe56628-bb40-4a9f-abb7-6efd9c1e64b3"
      },
      "source": [
        "group3.head(10)"
      ],
      "execution_count": null,
      "outputs": [
        {
          "output_type": "execute_result",
          "data": {
            "text/html": [
              "<div>\n",
              "<style scoped>\n",
              "    .dataframe tbody tr th:only-of-type {\n",
              "        vertical-align: middle;\n",
              "    }\n",
              "\n",
              "    .dataframe tbody tr th {\n",
              "        vertical-align: top;\n",
              "    }\n",
              "\n",
              "    .dataframe thead th {\n",
              "        text-align: right;\n",
              "    }\n",
              "</style>\n",
              "<table border=\"1\" class=\"dataframe\">\n",
              "  <thead>\n",
              "    <tr style=\"text-align: right;\">\n",
              "      <th></th>\n",
              "      <th>Email</th>\n",
              "      <th>Phone</th>\n",
              "      <th>OrderId</th>\n",
              "      <th>Id</th>\n",
              "      <th>Contacts</th>\n",
              "      <th>group</th>\n",
              "    </tr>\n",
              "  </thead>\n",
              "  <tbody>\n",
              "    <tr>\n",
              "      <th>0</th>\n",
              "      <td>YsKhkKGJoQSNniHcr@yahoo.com</td>\n",
              "      <td>562300766</td>\n",
              "      <td>IqewrMXVTJqSsVklWFfOpdRNI</td>\n",
              "      <td>13</td>\n",
              "      <td>1</td>\n",
              "      <td>13-417916-9-13-343161-13-16708</td>\n",
              "    </tr>\n",
              "    <tr>\n",
              "      <th>1</th>\n",
              "      <td>TNaMorNIWCJARsXlg@gmail.com</td>\n",
              "      <td>092607900110</td>\n",
              "      <td>GqpDeqZSwZTbPRrrGePkOhbSQ</td>\n",
              "      <td>17</td>\n",
              "      <td>3</td>\n",
              "      <td>17-17-15-17-21197</td>\n",
              "    </tr>\n",
              "    <tr>\n",
              "      <th>2</th>\n",
              "      <td>FoaGWGbpnlvizkIG@qq.com</td>\n",
              "      <td>87750412055</td>\n",
              "      <td>FAfkaPfbiYqJNLqonkuozigbW</td>\n",
              "      <td>22</td>\n",
              "      <td>0</td>\n",
              "      <td>22-453177-22-22-4562</td>\n",
              "    </tr>\n",
              "    <tr>\n",
              "      <th>3</th>\n",
              "      <td>MbjTCmxpcqf@yahoo.com</td>\n",
              "      <td>028044435230</td>\n",
              "      <td>nfVgFexPZGijuRCTKQOCRYKBe</td>\n",
              "      <td>28</td>\n",
              "      <td>1</td>\n",
              "      <td>28-28-1271-26068-28</td>\n",
              "    </tr>\n",
              "    <tr>\n",
              "      <th>4</th>\n",
              "      <td>VbaKKxkCzo@yahoo.com</td>\n",
              "      <td>315194406</td>\n",
              "      <td>TsBwFmhSCeauMjfoMVkhTBdYI</td>\n",
              "      <td>42</td>\n",
              "      <td>3</td>\n",
              "      <td>42-164913-42-42</td>\n",
              "    </tr>\n",
              "    <tr>\n",
              "      <th>5</th>\n",
              "      <td>TIMejlVYhfqjy@gmail.com</td>\n",
              "      <td>840113148</td>\n",
              "      <td>XBkNrwcWWslDvSQdhYPfCpQJo</td>\n",
              "      <td>50</td>\n",
              "      <td>4</td>\n",
              "      <td>50-50-226720-458692-5-50</td>\n",
              "    </tr>\n",
              "    <tr>\n",
              "      <th>6</th>\n",
              "      <td>LEQvQVjRnZGUzzii@qq.com</td>\n",
              "      <td>677071683</td>\n",
              "      <td>tNyZAarWISkKcyhLPjYOVXfrD</td>\n",
              "      <td>51</td>\n",
              "      <td>4</td>\n",
              "      <td>51-51-35-51</td>\n",
              "    </tr>\n",
              "    <tr>\n",
              "      <th>7</th>\n",
              "      <td>MqeWqLfAIPvgaelFet@hotmail.com</td>\n",
              "      <td>173754467363</td>\n",
              "      <td>yszJKOtWYrnjJoMPmXQMuZhiu</td>\n",
              "      <td>68</td>\n",
              "      <td>3</td>\n",
              "      <td>68-187301-68-68-1321-321667</td>\n",
              "    </tr>\n",
              "    <tr>\n",
              "      <th>8</th>\n",
              "      <td>KVJqkaaCFmoNXwysz@qq.com</td>\n",
              "      <td>075673879</td>\n",
              "      <td>RKKKiOTjYrrtRjRqtjzxuMnag</td>\n",
              "      <td>100</td>\n",
              "      <td>2</td>\n",
              "      <td>100-100-822-282502-306045-100-79530-220328</td>\n",
              "    </tr>\n",
              "    <tr>\n",
              "      <th>9</th>\n",
              "      <td>ckULfmuWRNSEE@gmail.com</td>\n",
              "      <td>67297509936</td>\n",
              "      <td>iqSSKRKJuXKNTKCUPwTrencOp</td>\n",
              "      <td>109</td>\n",
              "      <td>3</td>\n",
              "      <td>109-109-109-294-237280</td>\n",
              "    </tr>\n",
              "  </tbody>\n",
              "</table>\n",
              "</div>"
            ],
            "text/plain": [
              "                            Email  ...                                       group\n",
              "0     YsKhkKGJoQSNniHcr@yahoo.com  ...              13-417916-9-13-343161-13-16708\n",
              "1     TNaMorNIWCJARsXlg@gmail.com  ...                           17-17-15-17-21197\n",
              "2         FoaGWGbpnlvizkIG@qq.com  ...                        22-453177-22-22-4562\n",
              "3           MbjTCmxpcqf@yahoo.com  ...                         28-28-1271-26068-28\n",
              "4            VbaKKxkCzo@yahoo.com  ...                             42-164913-42-42\n",
              "5         TIMejlVYhfqjy@gmail.com  ...                    50-50-226720-458692-5-50\n",
              "6         LEQvQVjRnZGUzzii@qq.com  ...                                 51-51-35-51\n",
              "7  MqeWqLfAIPvgaelFet@hotmail.com  ...                 68-187301-68-68-1321-321667\n",
              "8        KVJqkaaCFmoNXwysz@qq.com  ...  100-100-822-282502-306045-100-79530-220328\n",
              "9         ckULfmuWRNSEE@gmail.com  ...                      109-109-109-294-237280\n",
              "\n",
              "[10 rows x 6 columns]"
            ]
          },
          "metadata": {
            "tags": []
          },
          "execution_count": 73
        }
      ]
    },
    {
      "cell_type": "code",
      "metadata": {
        "id": "orkD-ZMQF4yg"
      },
      "source": [
        "# transform the string to a list of elements of strings\n",
        "split_group = group3['group'].str.split('-')\n",
        "\n",
        "split_group = split_group.to_list()\n"
      ],
      "execution_count": null,
      "outputs": []
    },
    {
      "cell_type": "code",
      "metadata": {
        "id": "i_BzuQW1M1Bj"
      },
      "source": [
        "# change type of elements of lists (string --> integer)\n",
        "for i in range(0,len(split_group)):\n",
        "  for j in range(0,len(split_group[i])):\n",
        "    split_group[i][j] = int(split_group[i][j])"
      ],
      "execution_count": null,
      "outputs": []
    },
    {
      "cell_type": "code",
      "metadata": {
        "colab": {
          "base_uri": "https://localhost:8080/"
        },
        "id": "ibsevJ8iOE8Z",
        "outputId": "9a6f368d-4190-4533-9ceb-60e64b7e3e6f"
      },
      "source": [
        "list(set(split_group[1]))"
      ],
      "execution_count": null,
      "outputs": [
        {
          "output_type": "execute_result",
          "data": {
            "text/plain": [
              "[17, 21197, 15]"
            ]
          },
          "metadata": {
            "tags": []
          },
          "execution_count": 65
        }
      ]
    },
    {
      "cell_type": "code",
      "metadata": {
        "id": "orqYT_SzN8Z2"
      },
      "source": [
        "# eliminate the duplicates in list\n",
        "for i in range(0, len(split_group)):\n",
        "  split_group[i] = list(set(split_group[i]))"
      ],
      "execution_count": null,
      "outputs": []
    },
    {
      "cell_type": "code",
      "metadata": {
        "id": "0GpBlw-oQUhK"
      },
      "source": [
        "# sort the integers in list in ascending order\n",
        "for i in range(0, len(split_group)):\n",
        "  split_group[i] = sorted(split_group[i])"
      ],
      "execution_count": null,
      "outputs": []
    },
    {
      "cell_type": "code",
      "metadata": {
        "colab": {
          "base_uri": "https://localhost:8080/"
        },
        "id": "0CF9So_mN8XW",
        "outputId": "2c1dec41-3799-4c38-ce94-496f3a1683a1"
      },
      "source": [
        "split_group[1:10]"
      ],
      "execution_count": null,
      "outputs": [
        {
          "output_type": "execute_result",
          "data": {
            "text/plain": [
              "['15-17-21197',\n",
              " '22-4562-453177',\n",
              " '28-1271-26068',\n",
              " '42-164913',\n",
              " '5-50-226720-458692',\n",
              " '35-51',\n",
              " '68-1321-187301-321667',\n",
              " '100-822-79530-220328-282502-306045',\n",
              " '109-294-237280']"
            ]
          },
          "metadata": {
            "tags": []
          },
          "execution_count": 87
        }
      ]
    },
    {
      "cell_type": "code",
      "metadata": {
        "id": "bWABmiQTO5Xk"
      },
      "source": [
        "# integer --> string\n",
        "for i in range(0,len(split_group)):\n",
        "  for j in range(0,len(split_group[i])):\n",
        "    split_group[i][j] = str(split_group[i][j])\n",
        "# join the elements by '-'\n",
        "for i in range(0,len(split_group)):\n",
        "  split_group[i] = '-'.join(split_group[i])"
      ],
      "execution_count": null,
      "outputs": []
    },
    {
      "cell_type": "code",
      "metadata": {
        "id": "3G15IcRMIR2j"
      },
      "source": [
        "group3['ticket_trace'] = split_group"
      ],
      "execution_count": null,
      "outputs": []
    },
    {
      "cell_type": "code",
      "metadata": {
        "colab": {
          "base_uri": "https://localhost:8080/",
          "height": 206
        },
        "id": "rzlwThMDKBQZ",
        "outputId": "d96266f1-a0cf-422d-be4b-082683886e60"
      },
      "source": [
        "group3.head()"
      ],
      "execution_count": null,
      "outputs": [
        {
          "output_type": "execute_result",
          "data": {
            "text/html": [
              "<div>\n",
              "<style scoped>\n",
              "    .dataframe tbody tr th:only-of-type {\n",
              "        vertical-align: middle;\n",
              "    }\n",
              "\n",
              "    .dataframe tbody tr th {\n",
              "        vertical-align: top;\n",
              "    }\n",
              "\n",
              "    .dataframe thead th {\n",
              "        text-align: right;\n",
              "    }\n",
              "</style>\n",
              "<table border=\"1\" class=\"dataframe\">\n",
              "  <thead>\n",
              "    <tr style=\"text-align: right;\">\n",
              "      <th></th>\n",
              "      <th>Email</th>\n",
              "      <th>Phone</th>\n",
              "      <th>OrderId</th>\n",
              "      <th>Id</th>\n",
              "      <th>Contacts</th>\n",
              "      <th>group</th>\n",
              "      <th>ticket_trace</th>\n",
              "    </tr>\n",
              "  </thead>\n",
              "  <tbody>\n",
              "    <tr>\n",
              "      <th>0</th>\n",
              "      <td>YsKhkKGJoQSNniHcr@yahoo.com</td>\n",
              "      <td>562300766</td>\n",
              "      <td>IqewrMXVTJqSsVklWFfOpdRNI</td>\n",
              "      <td>13</td>\n",
              "      <td>1</td>\n",
              "      <td>13-417916-9-13-343161-13-16708</td>\n",
              "      <td>9-13-16708-343161-417916</td>\n",
              "    </tr>\n",
              "    <tr>\n",
              "      <th>1</th>\n",
              "      <td>TNaMorNIWCJARsXlg@gmail.com</td>\n",
              "      <td>092607900110</td>\n",
              "      <td>GqpDeqZSwZTbPRrrGePkOhbSQ</td>\n",
              "      <td>17</td>\n",
              "      <td>3</td>\n",
              "      <td>17-17-15-17-21197</td>\n",
              "      <td>15-17-21197</td>\n",
              "    </tr>\n",
              "    <tr>\n",
              "      <th>2</th>\n",
              "      <td>FoaGWGbpnlvizkIG@qq.com</td>\n",
              "      <td>87750412055</td>\n",
              "      <td>FAfkaPfbiYqJNLqonkuozigbW</td>\n",
              "      <td>22</td>\n",
              "      <td>0</td>\n",
              "      <td>22-453177-22-22-4562</td>\n",
              "      <td>22-4562-453177</td>\n",
              "    </tr>\n",
              "    <tr>\n",
              "      <th>3</th>\n",
              "      <td>MbjTCmxpcqf@yahoo.com</td>\n",
              "      <td>028044435230</td>\n",
              "      <td>nfVgFexPZGijuRCTKQOCRYKBe</td>\n",
              "      <td>28</td>\n",
              "      <td>1</td>\n",
              "      <td>28-28-1271-26068-28</td>\n",
              "      <td>28-1271-26068</td>\n",
              "    </tr>\n",
              "    <tr>\n",
              "      <th>4</th>\n",
              "      <td>VbaKKxkCzo@yahoo.com</td>\n",
              "      <td>315194406</td>\n",
              "      <td>TsBwFmhSCeauMjfoMVkhTBdYI</td>\n",
              "      <td>42</td>\n",
              "      <td>3</td>\n",
              "      <td>42-164913-42-42</td>\n",
              "      <td>42-164913</td>\n",
              "    </tr>\n",
              "  </tbody>\n",
              "</table>\n",
              "</div>"
            ],
            "text/plain": [
              "                         Email  ...              ticket_trace\n",
              "0  YsKhkKGJoQSNniHcr@yahoo.com  ...  9-13-16708-343161-417916\n",
              "1  TNaMorNIWCJARsXlg@gmail.com  ...               15-17-21197\n",
              "2      FoaGWGbpnlvizkIG@qq.com  ...            22-4562-453177\n",
              "3        MbjTCmxpcqf@yahoo.com  ...             28-1271-26068\n",
              "4         VbaKKxkCzo@yahoo.com  ...                 42-164913\n",
              "\n",
              "[5 rows x 7 columns]"
            ]
          },
          "metadata": {
            "tags": []
          },
          "execution_count": 86
        }
      ]
    },
    {
      "cell_type": "code",
      "metadata": {
        "id": "EP3HVi0dTXiX",
        "colab": {
          "base_uri": "https://localhost:8080/"
        },
        "outputId": "d558f842-82bc-4404-dfc9-3bc8776825f5"
      },
      "source": [
        "group3.shape[0]"
      ],
      "execution_count": null,
      "outputs": [
        {
          "output_type": "execute_result",
          "data": {
            "text/plain": [
              "40326"
            ]
          },
          "metadata": {
            "tags": []
          },
          "execution_count": 88
        }
      ]
    },
    {
      "cell_type": "markdown",
      "metadata": {
        "id": "VHRUreGx4jmp"
      },
      "source": [
        "# Conclusion:\n",
        "\n",
        "We are asked to work with the massive data set (500000 rows). This task could be done easily using LOOP-command. However, it is infeasible doing so for massive data set.\n",
        "\n",
        "This time we applied the GROUP BY, and buid-in functions for string.\n",
        "\n",
        "Participants:\n",
        "\n",
        "\n",
        "1.   Ngoc Quyen Nguyen - M.Sc Data Science (Heidelberg University)\n",
        "2.   Ngoc Chien  Le - M.Sc Data Science (Australia University)\n",
        "3.   Thanh Quyen Nguyen - M.Sc Econometrics (TU Dortmund)\n",
        "4.   Hoang Phuc Nguyen - M.Sc Computer Science (Ho Chi Minh City University of Technology)\n",
        "\n",
        "\n"
      ]
    }
  ]
}